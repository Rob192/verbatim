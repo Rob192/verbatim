{
  "nbformat": 4,
  "nbformat_minor": 0,
  "metadata": {
    "colab": {
      "name": "trial_lda.ipynb",
      "provenance": [],
      "authorship_tag": "ABX9TyNED0txHJIfXBrf3hYgkB5Q",
      "include_colab_link": true
    },
    "kernelspec": {
      "name": "python3",
      "display_name": "Python 3"
    },
    "widgets": {
      "application/vnd.jupyter.widget-state+json": {
        "e1ff9084b7c04606ad4079cc93d91796": {
          "model_module": "@jupyter-widgets/controls",
          "model_name": "HBoxModel",
          "state": {
            "_view_name": "HBoxView",
            "_dom_classes": [],
            "_model_name": "HBoxModel",
            "_view_module": "@jupyter-widgets/controls",
            "_model_module_version": "1.5.0",
            "_view_count": null,
            "_view_module_version": "1.5.0",
            "box_style": "",
            "layout": "IPY_MODEL_7f4cd7856fd641dd8507a02330c240b6",
            "_model_module": "@jupyter-widgets/controls",
            "children": [
              "IPY_MODEL_a8adca947f7f4933bb5723ac5b9462c9",
              "IPY_MODEL_81c60c4bc3444d9b972233eb80dbd485"
            ]
          }
        },
        "7f4cd7856fd641dd8507a02330c240b6": {
          "model_module": "@jupyter-widgets/base",
          "model_name": "LayoutModel",
          "state": {
            "_view_name": "LayoutView",
            "grid_template_rows": null,
            "right": null,
            "justify_content": null,
            "_view_module": "@jupyter-widgets/base",
            "overflow": null,
            "_model_module_version": "1.2.0",
            "_view_count": null,
            "flex_flow": null,
            "width": null,
            "min_width": null,
            "border": null,
            "align_items": null,
            "bottom": null,
            "_model_module": "@jupyter-widgets/base",
            "top": null,
            "grid_column": null,
            "overflow_y": null,
            "overflow_x": null,
            "grid_auto_flow": null,
            "grid_area": null,
            "grid_template_columns": null,
            "flex": null,
            "_model_name": "LayoutModel",
            "justify_items": null,
            "grid_row": null,
            "max_height": null,
            "align_content": null,
            "visibility": null,
            "align_self": null,
            "height": null,
            "min_height": null,
            "padding": null,
            "grid_auto_rows": null,
            "grid_gap": null,
            "max_width": null,
            "order": null,
            "_view_module_version": "1.2.0",
            "grid_template_areas": null,
            "object_position": null,
            "object_fit": null,
            "grid_auto_columns": null,
            "margin": null,
            "display": null,
            "left": null
          }
        },
        "a8adca947f7f4933bb5723ac5b9462c9": {
          "model_module": "@jupyter-widgets/controls",
          "model_name": "FloatProgressModel",
          "state": {
            "_view_name": "ProgressView",
            "style": "IPY_MODEL_8a73e96e6e244b8b880a2c8baabf1118",
            "_dom_classes": [],
            "description": "100%",
            "_model_name": "FloatProgressModel",
            "bar_style": "success",
            "max": 590,
            "_view_module": "@jupyter-widgets/controls",
            "_model_module_version": "1.5.0",
            "value": 590,
            "_view_count": null,
            "_view_module_version": "1.5.0",
            "orientation": "horizontal",
            "min": 0,
            "description_tooltip": null,
            "_model_module": "@jupyter-widgets/controls",
            "layout": "IPY_MODEL_f6c57f29bd0d43539a954ad3fc72f151"
          }
        },
        "81c60c4bc3444d9b972233eb80dbd485": {
          "model_module": "@jupyter-widgets/controls",
          "model_name": "HTMLModel",
          "state": {
            "_view_name": "HTMLView",
            "style": "IPY_MODEL_bc5b3505a2664adbb65af63a99d07db2",
            "_dom_classes": [],
            "description": "",
            "_model_name": "HTMLModel",
            "placeholder": "​",
            "_view_module": "@jupyter-widgets/controls",
            "_model_module_version": "1.5.0",
            "value": " 590/590 [00:09&lt;00:00, 60.69it/s]",
            "_view_count": null,
            "_view_module_version": "1.5.0",
            "description_tooltip": null,
            "_model_module": "@jupyter-widgets/controls",
            "layout": "IPY_MODEL_a73ee14dade849ebaaacc49ff58fbae3"
          }
        },
        "8a73e96e6e244b8b880a2c8baabf1118": {
          "model_module": "@jupyter-widgets/controls",
          "model_name": "ProgressStyleModel",
          "state": {
            "_view_name": "StyleView",
            "_model_name": "ProgressStyleModel",
            "description_width": "initial",
            "_view_module": "@jupyter-widgets/base",
            "_model_module_version": "1.5.0",
            "_view_count": null,
            "_view_module_version": "1.2.0",
            "bar_color": null,
            "_model_module": "@jupyter-widgets/controls"
          }
        },
        "f6c57f29bd0d43539a954ad3fc72f151": {
          "model_module": "@jupyter-widgets/base",
          "model_name": "LayoutModel",
          "state": {
            "_view_name": "LayoutView",
            "grid_template_rows": null,
            "right": null,
            "justify_content": null,
            "_view_module": "@jupyter-widgets/base",
            "overflow": null,
            "_model_module_version": "1.2.0",
            "_view_count": null,
            "flex_flow": null,
            "width": null,
            "min_width": null,
            "border": null,
            "align_items": null,
            "bottom": null,
            "_model_module": "@jupyter-widgets/base",
            "top": null,
            "grid_column": null,
            "overflow_y": null,
            "overflow_x": null,
            "grid_auto_flow": null,
            "grid_area": null,
            "grid_template_columns": null,
            "flex": null,
            "_model_name": "LayoutModel",
            "justify_items": null,
            "grid_row": null,
            "max_height": null,
            "align_content": null,
            "visibility": null,
            "align_self": null,
            "height": null,
            "min_height": null,
            "padding": null,
            "grid_auto_rows": null,
            "grid_gap": null,
            "max_width": null,
            "order": null,
            "_view_module_version": "1.2.0",
            "grid_template_areas": null,
            "object_position": null,
            "object_fit": null,
            "grid_auto_columns": null,
            "margin": null,
            "display": null,
            "left": null
          }
        },
        "bc5b3505a2664adbb65af63a99d07db2": {
          "model_module": "@jupyter-widgets/controls",
          "model_name": "DescriptionStyleModel",
          "state": {
            "_view_name": "StyleView",
            "_model_name": "DescriptionStyleModel",
            "description_width": "",
            "_view_module": "@jupyter-widgets/base",
            "_model_module_version": "1.5.0",
            "_view_count": null,
            "_view_module_version": "1.2.0",
            "_model_module": "@jupyter-widgets/controls"
          }
        },
        "a73ee14dade849ebaaacc49ff58fbae3": {
          "model_module": "@jupyter-widgets/base",
          "model_name": "LayoutModel",
          "state": {
            "_view_name": "LayoutView",
            "grid_template_rows": null,
            "right": null,
            "justify_content": null,
            "_view_module": "@jupyter-widgets/base",
            "overflow": null,
            "_model_module_version": "1.2.0",
            "_view_count": null,
            "flex_flow": null,
            "width": null,
            "min_width": null,
            "border": null,
            "align_items": null,
            "bottom": null,
            "_model_module": "@jupyter-widgets/base",
            "top": null,
            "grid_column": null,
            "overflow_y": null,
            "overflow_x": null,
            "grid_auto_flow": null,
            "grid_area": null,
            "grid_template_columns": null,
            "flex": null,
            "_model_name": "LayoutModel",
            "justify_items": null,
            "grid_row": null,
            "max_height": null,
            "align_content": null,
            "visibility": null,
            "align_self": null,
            "height": null,
            "min_height": null,
            "padding": null,
            "grid_auto_rows": null,
            "grid_gap": null,
            "max_width": null,
            "order": null,
            "_view_module_version": "1.2.0",
            "grid_template_areas": null,
            "object_position": null,
            "object_fit": null,
            "grid_auto_columns": null,
            "margin": null,
            "display": null,
            "left": null
          }
        }
      }
    }
  },
  "cells": [
    {
      "cell_type": "markdown",
      "metadata": {
        "id": "view-in-github",
        "colab_type": "text"
      },
      "source": [
        "<a href=\"https://colab.research.google.com/github/Rob192/verbatim/blob/master/trial_lda.ipynb\" target=\"_parent\"><img src=\"https://colab.research.google.com/assets/colab-badge.svg\" alt=\"Open In Colab\"/></a>"
      ]
    },
    {
      "cell_type": "code",
      "metadata": {
        "id": "Vo6RlOAMzLnt",
        "colab_type": "code",
        "colab": {}
      },
      "source": [
        "import numpy as np\n",
        "import pandas as pd"
      ],
      "execution_count": 0,
      "outputs": []
    },
    {
      "cell_type": "code",
      "metadata": {
        "id": "R4yZXuV8zYcN",
        "colab_type": "code",
        "outputId": "ceb39a5c-bdc0-4bbc-f985-9bf567dd94a4",
        "colab": {
          "base_uri": "https://localhost:8080/",
          "height": 736
        }
      },
      "source": [
        "df = pd.read_csv('https://raw.githubusercontent.com/Rob192/verbatim/master/COVID-19-RETEX_5-25-2020_pavel.csv', sep = ',')\n",
        "df.head()"
      ],
      "execution_count": 2,
      "outputs": [
        {
          "output_type": "execute_result",
          "data": {
            "text/html": [
              "<div>\n",
              "<style scoped>\n",
              "    .dataframe tbody tr th:only-of-type {\n",
              "        vertical-align: middle;\n",
              "    }\n",
              "\n",
              "    .dataframe tbody tr th {\n",
              "        vertical-align: top;\n",
              "    }\n",
              "\n",
              "    .dataframe thead th {\n",
              "        text-align: right;\n",
              "    }\n",
              "</style>\n",
              "<table border=\"1\" class=\"dataframe\">\n",
              "  <thead>\n",
              "    <tr style=\"text-align: right;\">\n",
              "      <th></th>\n",
              "      <th>N°Obs</th>\n",
              "      <th>1. Quel est votre ministère d'appartenance ?</th>\n",
              "      <th>2. Quelle est votre fonction ?</th>\n",
              "      <th>3. Précisez votre fonction</th>\n",
              "      <th>4. Quel est le nom de votre direction, sous-direction ou service</th>\n",
              "      <th>5. Quelle est votre région (pour les administrations territorial</th>\n",
              "      <th>6. A1. Considérez-vous avoir eu rapidement les moyens de mobilis</th>\n",
              "      <th>7. A1a. Pour quelles raisons ?</th>\n",
              "      <th>8. A2. Dans quel délai avez-vous eu connaissance des moyens numé</th>\n",
              "      <th>9. A3. Comment notez-vous l'efficacité de vos moyens de télétrav</th>\n",
              "      <th>10. A4. Quelles initiatives complémentaires avez-vous prises pou</th>\n",
              "      <th>11. Messagerie du ministère</th>\n",
              "      <th>12. Messagerie autre (ex: gmail)</th>\n",
              "      <th>13. Messagerie instantanée interministérielle (Tchap)</th>\n",
              "      <th>14. Messagerie instantanée autre (ex: WhatsApp)</th>\n",
              "      <th>15. Visio-conférence du ministère</th>\n",
              "      <th>16. Viso-conférence interministériel (WebConf)</th>\n",
              "      <th>17. Visio-conférence autre (ex: Skype)</th>\n",
              "      <th>18. Outils collaboratifs du ministère</th>\n",
              "      <th>19. Outils collaboratifs interministériels (OSMOSE, PLANO, RESAN</th>\n",
              "      <th>20. Outils collaboratifs autres</th>\n",
              "      <th>21. Audio-conférence téléphonique</th>\n",
              "      <th>22. B2. Avez-vous eu recours à des ressources ou compétences add</th>\n",
              "      <th>23. B2a. Si oui, lesquelles et comment les avez-vous activées ?</th>\n",
              "      <th>24. B3. A quelles principales difficultés avez-vous fait face po</th>\n",
              "      <th>25. C1. Considérez-vous que votre direction disposait d'une cult</th>\n",
              "      <th>26. C2. Quels moyens de communication internes avez-vous mis en</th>\n",
              "      <th>27. C2a. Si \"autre\", lesquelles ?</th>\n",
              "      <th>28. C3. Avez-vous détecté des agents mis en difficulté, y compri</th>\n",
              "      <th>29. C3a. Que pouvez-vous en dire ?</th>\n",
              "      <th>30. C4. Entendez-vous conserver au-delà de la crise des pratique</th>\n",
              "      <th>31. C4a. Si oui, lesquelles ?</th>\n",
              "      <th>32. C5. Que souhaitez-vous ajouter sur les impacts du numérique</th>\n",
              "      <th>33. Clé</th>\n",
              "      <th>34. Date de saisie</th>\n",
              "      <th>35. Date de dernière modification</th>\n",
              "      <th>36. Date de dernier enregistrement</th>\n",
              "      <th>37. Temps de saisie</th>\n",
              "      <th>38. Langue</th>\n",
              "      <th>39. Progression</th>\n",
              "      <th>40. Origine</th>\n",
              "      <th>41. Appareil utilisé pour la saisie</th>\n",
              "    </tr>\n",
              "  </thead>\n",
              "  <tbody>\n",
              "    <tr>\n",
              "      <th>0</th>\n",
              "      <td>1</td>\n",
              "      <td>Services du Premier ministre</td>\n",
              "      <td>Autre</td>\n",
              "      <td>secrétaire générale</td>\n",
              "      <td>NaN</td>\n",
              "      <td>NaN</td>\n",
              "      <td>Oui</td>\n",
              "      <td>NaN</td>\n",
              "      <td>Dès la 1ère semaine</td>\n",
              "      <td>4</td>\n",
              "      <td>NaN</td>\n",
              "      <td>Très utile</td>\n",
              "      <td>Pas utile</td>\n",
              "      <td>Non utilisé</td>\n",
              "      <td>Non utilisé</td>\n",
              "      <td>Non utilisé</td>\n",
              "      <td>Non utilisé</td>\n",
              "      <td>Utile</td>\n",
              "      <td>Non utilisé</td>\n",
              "      <td>Non utilisé</td>\n",
              "      <td>Utile</td>\n",
              "      <td>Très utile</td>\n",
              "      <td>Non</td>\n",
              "      <td>NaN</td>\n",
              "      <td>insuffisance de la bande passante; lenteurs;</td>\n",
              "      <td>Oui mais insuffisamment</td>\n",
              "      <td>Courriels / Lettre d'information;Enquête en li...</td>\n",
              "      <td>NaN</td>\n",
              "      <td>Oui</td>\n",
              "      <td>handicap; isolement;</td>\n",
              "      <td>Oui</td>\n",
              "      <td>fluidité des validations électroniques; visio ...</td>\n",
              "      <td>NaN</td>\n",
              "      <td>66DP-LXBD</td>\n",
              "      <td>28/04/2020 15:01:25</td>\n",
              "      <td>NaN</td>\n",
              "      <td>28/04/2020 15:05:50</td>\n",
              "      <td>264.940515</td>\n",
              "      <td>FR</td>\n",
              "      <td>Terminé</td>\n",
              "      <td>Direct</td>\n",
              "      <td>PC</td>\n",
              "    </tr>\n",
              "    <tr>\n",
              "      <th>1</th>\n",
              "      <td>2</td>\n",
              "      <td>Services du Premier ministre</td>\n",
              "      <td>Directeur.trice (centrale)</td>\n",
              "      <td>NaN</td>\n",
              "      <td>CIVEN</td>\n",
              "      <td>NaN</td>\n",
              "      <td>Pas suffisamment</td>\n",
              "      <td>Manque de postes PC portables avec accès télét...</td>\n",
              "      <td>Dès la 1ère semaine</td>\n",
              "      <td>5</td>\n",
              "      <td>Ensemble du travail du CIVEN se fait par télét...</td>\n",
              "      <td>Très utile</td>\n",
              "      <td>Utile</td>\n",
              "      <td>Non utilisé</td>\n",
              "      <td>Utile</td>\n",
              "      <td>Non utilisé</td>\n",
              "      <td>Non utilisé</td>\n",
              "      <td>Utile</td>\n",
              "      <td>Non utilisé</td>\n",
              "      <td>Non utilisé</td>\n",
              "      <td>Utile</td>\n",
              "      <td>Très utile</td>\n",
              "      <td>Oui</td>\n",
              "      <td>Travail sur l'application informatique du CIVE...</td>\n",
              "      <td>manque de postes informatiques télétravail pou...</td>\n",
              "      <td>Oui mais insuffisamment</td>\n",
              "      <td>Courriels / Lettre d'information;Réseau social...</td>\n",
              "      <td>NaN</td>\n",
              "      <td>Non</td>\n",
              "      <td>NaN</td>\n",
              "      <td>Oui</td>\n",
              "      <td>Recours au télétravail et mise place d'audioco...</td>\n",
              "      <td>La période de confinement, malgré le soutien d...</td>\n",
              "      <td>TNTW-XFV4</td>\n",
              "      <td>28/04/2020 15:06:54</td>\n",
              "      <td>NaN</td>\n",
              "      <td>28/04/2020 15:18:24</td>\n",
              "      <td>690.338652</td>\n",
              "      <td>FR</td>\n",
              "      <td>Terminé</td>\n",
              "      <td>Direct</td>\n",
              "      <td>PC</td>\n",
              "    </tr>\n",
              "    <tr>\n",
              "      <th>2</th>\n",
              "      <td>3</td>\n",
              "      <td>Services du Premier ministre</td>\n",
              "      <td>Autre</td>\n",
              "      <td>Secrétaire générale</td>\n",
              "      <td>Délégation interministérielle aux jeux Olympiq...</td>\n",
              "      <td>NaN</td>\n",
              "      <td>Oui</td>\n",
              "      <td>NaN</td>\n",
              "      <td>Dès la 1ère semaine</td>\n",
              "      <td>5</td>\n",
              "      <td>Maintien de réunions de service hebdomadaires ...</td>\n",
              "      <td>Très utile</td>\n",
              "      <td>Pas utile</td>\n",
              "      <td>Inconnu</td>\n",
              "      <td>Très utile</td>\n",
              "      <td>Non utilisé</td>\n",
              "      <td>Non utilisé</td>\n",
              "      <td>Très utile</td>\n",
              "      <td>Non utilisé</td>\n",
              "      <td>Inconnu</td>\n",
              "      <td>Non utilisé</td>\n",
              "      <td>Très utile</td>\n",
              "      <td>Non</td>\n",
              "      <td>NaN</td>\n",
              "      <td>Aucune difficulté</td>\n",
              "      <td>Oui</td>\n",
              "      <td>Courriels / Lettre d'information;Réseau social...</td>\n",
              "      <td>NaN</td>\n",
              "      <td>Non</td>\n",
              "      <td>NaN</td>\n",
              "      <td>Je ne sais pas encore</td>\n",
              "      <td>NaN</td>\n",
              "      <td>Néant</td>\n",
              "      <td>AK5M-Y4WQ</td>\n",
              "      <td>28/04/2020 15:11:49</td>\n",
              "      <td>NaN</td>\n",
              "      <td>28/04/2020 15:24:11</td>\n",
              "      <td>742.120496</td>\n",
              "      <td>FR</td>\n",
              "      <td>Terminé</td>\n",
              "      <td>Direct</td>\n",
              "      <td>PC</td>\n",
              "    </tr>\n",
              "    <tr>\n",
              "      <th>3</th>\n",
              "      <td>4</td>\n",
              "      <td>Services du Premier ministre</td>\n",
              "      <td>Autre</td>\n",
              "      <td>Secrétaire général</td>\n",
              "      <td>Ecole nationale d'administration</td>\n",
              "      <td>NaN</td>\n",
              "      <td>Oui</td>\n",
              "      <td>NaN</td>\n",
              "      <td>Jamais</td>\n",
              "      <td>5</td>\n",
              "      <td>En tant qu'établissement public administratif,...</td>\n",
              "      <td>Non utilisé</td>\n",
              "      <td>Non utilisé</td>\n",
              "      <td>Non utilisé</td>\n",
              "      <td>Non utilisé</td>\n",
              "      <td>Non utilisé</td>\n",
              "      <td>Non utilisé</td>\n",
              "      <td>Très utile</td>\n",
              "      <td>Non utilisé</td>\n",
              "      <td>Non utilisé</td>\n",
              "      <td>Très utile</td>\n",
              "      <td>Très utile</td>\n",
              "      <td>Non</td>\n",
              "      <td>NaN</td>\n",
              "      <td>Les outils ne sont pas en cause, comme indiqué...</td>\n",
              "      <td>Oui</td>\n",
              "      <td>Courriels / Lettre d'information;Site Web;Web ...</td>\n",
              "      <td>Le dialogue social. J'ai réuni les organisatio...</td>\n",
              "      <td>Oui</td>\n",
              "      <td>Sans dévoiler de secret au plan médical : diff...</td>\n",
              "      <td>Oui</td>\n",
              "      <td>Il est prévu dans le PRAP une période de maint...</td>\n",
              "      <td>La mise en œuvre du \"tout numérique\" est un su...</td>\n",
              "      <td>9R26-A7DM</td>\n",
              "      <td>28/04/2020 15:02:08</td>\n",
              "      <td>NaN</td>\n",
              "      <td>28/04/2020 15:36:43</td>\n",
              "      <td>2075.459225</td>\n",
              "      <td>FR</td>\n",
              "      <td>Terminé</td>\n",
              "      <td>Direct</td>\n",
              "      <td>PC</td>\n",
              "    </tr>\n",
              "    <tr>\n",
              "      <th>4</th>\n",
              "      <td>5</td>\n",
              "      <td>Services du Premier ministre</td>\n",
              "      <td>Directeur.trice (centrale)</td>\n",
              "      <td>NaN</td>\n",
              "      <td>Protection des droits affaires judiciaires au ...</td>\n",
              "      <td>NaN</td>\n",
              "      <td>Oui</td>\n",
              "      <td>NaN</td>\n",
              "      <td>Dès la 1ère semaine</td>\n",
              "      <td>4</td>\n",
              "      <td>Conference téléphonique hebdomadaire point tél...</td>\n",
              "      <td>Très utile</td>\n",
              "      <td>Non utilisé</td>\n",
              "      <td>Non utilisé</td>\n",
              "      <td>Très utile</td>\n",
              "      <td>Non utilisé</td>\n",
              "      <td>Pas utile</td>\n",
              "      <td>Très utile</td>\n",
              "      <td>Inconnu</td>\n",
              "      <td>Inconnu</td>\n",
              "      <td>Très utile</td>\n",
              "      <td>Très utile</td>\n",
              "      <td>Oui</td>\n",
              "      <td>Service informatique du Defenseur des droits</td>\n",
              "      <td>Bande passante insuffisante pour les visioconf...</td>\n",
              "      <td>Oui</td>\n",
              "      <td>Courriels / Lettre d'information;Réseau social...</td>\n",
              "      <td>NaN</td>\n",
              "      <td>Oui</td>\n",
              "      <td>La difficulté de separer vie familiale vie pri...</td>\n",
              "      <td>Je ne sais pas encore</td>\n",
              "      <td>NaN</td>\n",
              "      <td>Rien</td>\n",
              "      <td>2X6X-XE4T</td>\n",
              "      <td>28/04/2020 15:48:46</td>\n",
              "      <td>NaN</td>\n",
              "      <td>28/04/2020 15:59:45</td>\n",
              "      <td>659.680051</td>\n",
              "      <td>FR</td>\n",
              "      <td>Terminé</td>\n",
              "      <td>Direct</td>\n",
              "      <td>Smartphone</td>\n",
              "    </tr>\n",
              "  </tbody>\n",
              "</table>\n",
              "</div>"
            ],
            "text/plain": [
              "   N°Obs  ... 41. Appareil utilisé pour la saisie\n",
              "0      1  ...                                  PC\n",
              "1      2  ...                                  PC\n",
              "2      3  ...                                  PC\n",
              "3      4  ...                                  PC\n",
              "4      5  ...                          Smartphone\n",
              "\n",
              "[5 rows x 42 columns]"
            ]
          },
          "metadata": {
            "tags": []
          },
          "execution_count": 2
        }
      ]
    },
    {
      "cell_type": "code",
      "metadata": {
        "id": "gwxqYOfy0CqJ",
        "colab_type": "code",
        "colab": {}
      },
      "source": [
        "cols = df.columns"
      ],
      "execution_count": 0,
      "outputs": []
    },
    {
      "cell_type": "code",
      "metadata": {
        "id": "wK6x-nPh336Y",
        "colab_type": "code",
        "colab": {}
      },
      "source": [
        "df = df['31. C4a. Si oui, lesquelles ?']\n",
        "df.columns = [\"bonnes_pratiques\"]"
      ],
      "execution_count": 0,
      "outputs": []
    },
    {
      "cell_type": "code",
      "metadata": {
        "id": "89j3Co1-4G_2",
        "colab_type": "code",
        "outputId": "e8326d28-f718-44ba-f4b6-83c5c2f3195c",
        "colab": {
          "base_uri": "https://localhost:8080/",
          "height": 118
        }
      },
      "source": [
        "df.head()"
      ],
      "execution_count": 5,
      "outputs": [
        {
          "output_type": "execute_result",
          "data": {
            "text/plain": [
              "0    fluidité des validations électroniques; visio ...\n",
              "1    Recours au télétravail et mise place d'audioco...\n",
              "2                                                  NaN\n",
              "3    Il est prévu dans le PRAP une période de maint...\n",
              "4                                                  NaN\n",
              "Name: 31. C4a. Si oui, lesquelles ?, dtype: object"
            ]
          },
          "metadata": {
            "tags": []
          },
          "execution_count": 5
        }
      ]
    },
    {
      "cell_type": "code",
      "metadata": {
        "id": "CR8tdF4Y4HeD",
        "colab_type": "code",
        "colab": {}
      },
      "source": [
        "df.dropna(inplace=True)"
      ],
      "execution_count": 0,
      "outputs": []
    },
    {
      "cell_type": "code",
      "metadata": {
        "id": "jeGKAlAT4hPB",
        "colab_type": "code",
        "colab": {}
      },
      "source": [
        "import gensim\n",
        "import gensim.corpora as corpora\n",
        "from gensim.utils import simple_preprocess\n",
        "from gensim.models import CoherenceModel\n",
        "\n",
        "import spacy\n",
        "from spacy.lemmatizer import Lemmatizer\n",
        "from spacy.lang.fr.stop_words import STOP_WORDS\n",
        "\n",
        "from tqdm import tqdm_notebook as tqdm\n",
        "from pprint import pprint"
      ],
      "execution_count": 0,
      "outputs": []
    },
    {
      "cell_type": "code",
      "metadata": {
        "id": "Jh2gDLaH5RW2",
        "colab_type": "code",
        "outputId": "f3623760-113a-482c-c678-723a77e734ab",
        "colab": {
          "base_uri": "https://localhost:8080/",
          "height": 50
        }
      },
      "source": [
        "import spacy.cli\n",
        "spacy.cli.download(\"fr_core_news_md\")"
      ],
      "execution_count": 12,
      "outputs": [
        {
          "output_type": "stream",
          "text": [
            "\u001b[38;5;2m✔ Download and installation successful\u001b[0m\n",
            "You can now load the model via spacy.load('fr_core_news_md')\n"
          ],
          "name": "stdout"
        }
      ]
    },
    {
      "cell_type": "code",
      "metadata": {
        "id": "WxmPCRtd4zfv",
        "colab_type": "code",
        "colab": {}
      },
      "source": [
        "nlp = spacy.load('fr_core_news_md')"
      ],
      "execution_count": 0,
      "outputs": []
    },
    {
      "cell_type": "code",
      "metadata": {
        "id": "Ly4kaFZW-VhJ",
        "colab_type": "code",
        "colab": {}
      },
      "source": [
        "# My list of stop words.\n",
        "stop_list = [\"\\n \"]\n",
        "\n",
        "# Updates spaCy's default stop words list with my additional words. \n",
        "nlp.Defaults.stop_words.update(stop_list)\n",
        "\n",
        "# Iterates over the words in the stop words list and resets the \"is_stop\" flag.\n",
        "for word in STOP_WORDS:\n",
        "    lexeme = nlp.vocab[word]\n",
        "    lexeme.is_stop = True"
      ],
      "execution_count": 0,
      "outputs": []
    },
    {
      "cell_type": "code",
      "metadata": {
        "id": "OUv-TGk653-0",
        "colab_type": "code",
        "outputId": "2cef9000-3e3c-4132-bab7-bdb1d7e86c2c",
        "colab": {
          "base_uri": "https://localhost:8080/",
          "height": 34
        }
      },
      "source": [
        "txt = df[1]\n",
        "doc = nlp(txt)\n",
        "txt"
      ],
      "execution_count": 15,
      "outputs": [
        {
          "output_type": "execute_result",
          "data": {
            "text/plain": [
              "\"Recours au télétravail et mise place d'audioconférence pour certaines réunions.\""
            ]
          },
          "metadata": {
            "tags": []
          },
          "execution_count": 15
        }
      ]
    },
    {
      "cell_type": "code",
      "metadata": {
        "id": "r3k_azkA8H_t",
        "colab_type": "code",
        "outputId": "05b29de3-0386-4831-da91-2ef6db56472c",
        "colab": {
          "base_uri": "https://localhost:8080/",
          "height": 34
        }
      },
      "source": [
        "doc"
      ],
      "execution_count": 16,
      "outputs": [
        {
          "output_type": "execute_result",
          "data": {
            "text/plain": [
              "Recours au télétravail et mise place d'audioconférence pour certaines réunions."
            ]
          },
          "metadata": {
            "tags": []
          },
          "execution_count": 16
        }
      ]
    },
    {
      "cell_type": "code",
      "metadata": {
        "id": "dmB3gOhs8d9K",
        "colab_type": "code",
        "outputId": "09b0f7f4-413c-4174-8ecf-a2ab8fc2600d",
        "colab": {
          "base_uri": "https://localhost:8080/",
          "height": 34
        }
      },
      "source": [
        "def lemmatizer(doc):\n",
        "    # This takes in a doc of tokens from the NER and lemmatizes them. \n",
        "    # Pronouns (like \"I\" and \"you\" get lemmatized to '-PRON-', so I'm removing those.\n",
        "    doc = [token.lemma_ for token in doc if token.lemma_ != '-PRON-']\n",
        "    doc = u' '.join(doc)\n",
        "    return nlp.make_doc(doc)\n",
        "lemmatizer(doc)"
      ],
      "execution_count": 17,
      "outputs": [
        {
          "output_type": "execute_result",
          "data": {
            "text/plain": [
              "recours au télétravail et mise place de audioconférence pour certain réunion ."
            ]
          },
          "metadata": {
            "tags": []
          },
          "execution_count": 17
        }
      ]
    },
    {
      "cell_type": "code",
      "metadata": {
        "id": "iYY9LNVl8lZE",
        "colab_type": "code",
        "outputId": "9f106212-7175-445c-c166-2b4637e754a0",
        "colab": {
          "base_uri": "https://localhost:8080/",
          "height": 34
        }
      },
      "source": [
        "def remove_stopwords(doc):\n",
        "    # This will remove stopwords and punctuation.\n",
        "    # Use token.text to return strings, which we'll need for Gensim.\n",
        "    doc = [token.text for token in doc if token.is_stop != True and token.is_punct != True]\n",
        "    return doc\n",
        "remove_stopwords(doc)"
      ],
      "execution_count": 18,
      "outputs": [
        {
          "output_type": "execute_result",
          "data": {
            "text/plain": [
              "['Recours', 'télétravail', 'mise', 'place', 'audioconférence', 'réunions']"
            ]
          },
          "metadata": {
            "tags": []
          },
          "execution_count": 18
        }
      ]
    },
    {
      "cell_type": "code",
      "metadata": {
        "id": "OxmfOf3N8zkm",
        "colab_type": "code",
        "colab": {}
      },
      "source": [
        "nlp.add_pipe(lemmatizer,name='lemmatizer',after='ner')\n",
        "nlp.add_pipe(remove_stopwords, name=\"stopwords\", last=True)"
      ],
      "execution_count": 0,
      "outputs": []
    },
    {
      "cell_type": "code",
      "metadata": {
        "id": "02wM1Jkw9It7",
        "colab_type": "code",
        "outputId": "13743cde-12bb-4ae2-b4b5-13bdea13dfc0",
        "colab": {
          "base_uri": "https://localhost:8080/",
          "height": 116,
          "referenced_widgets": [
            "e1ff9084b7c04606ad4079cc93d91796",
            "7f4cd7856fd641dd8507a02330c240b6",
            "a8adca947f7f4933bb5723ac5b9462c9",
            "81c60c4bc3444d9b972233eb80dbd485",
            "8a73e96e6e244b8b880a2c8baabf1118",
            "f6c57f29bd0d43539a954ad3fc72f151",
            "bc5b3505a2664adbb65af63a99d07db2",
            "a73ee14dade849ebaaacc49ff58fbae3"
          ]
        }
      },
      "source": [
        "doc_list = []\n",
        "# Iterates through each article in the corpus.\n",
        "for txt in tqdm(df.values):\n",
        "    # Passes that article through the pipeline and adds to a new list.\n",
        "    pr = nlp(txt)\n",
        "    doc_list.append(pr)"
      ],
      "execution_count": 20,
      "outputs": [
        {
          "output_type": "stream",
          "text": [
            "/usr/local/lib/python3.6/dist-packages/ipykernel_launcher.py:3: TqdmDeprecationWarning: This function will be removed in tqdm==5.0.0\n",
            "Please use `tqdm.notebook.tqdm` instead of `tqdm.tqdm_notebook`\n",
            "  This is separate from the ipykernel package so we can avoid doing imports until\n"
          ],
          "name": "stderr"
        },
        {
          "output_type": "display_data",
          "data": {
            "application/vnd.jupyter.widget-view+json": {
              "model_id": "e1ff9084b7c04606ad4079cc93d91796",
              "version_minor": 0,
              "version_major": 2
            },
            "text/plain": [
              "HBox(children=(FloatProgress(value=0.0, max=590.0), HTML(value='')))"
            ]
          },
          "metadata": {
            "tags": []
          }
        },
        {
          "output_type": "stream",
          "text": [
            "\n"
          ],
          "name": "stdout"
        }
      ]
    },
    {
      "cell_type": "code",
      "metadata": {
        "id": "A54jvb8j9W5M",
        "colab_type": "code",
        "colab": {}
      },
      "source": [
        "# Creates, which is a mapping of word IDs to words.\n",
        "words = corpora.Dictionary(doc_list)\n",
        "\n",
        "# Turns each document into a bag of words.\n",
        "corpus = [words.doc2bow(doc) for doc in doc_list]"
      ],
      "execution_count": 0,
      "outputs": []
    },
    {
      "cell_type": "code",
      "metadata": {
        "id": "vyKlBgPl9jYN",
        "colab_type": "code",
        "colab": {}
      },
      "source": [
        "lda_model = gensim.models.ldamodel.LdaModel(corpus=corpus,\n",
        "                                           id2word=words,\n",
        "                                           num_topics=3, \n",
        "                                           random_state=2,\n",
        "                                           update_every=1,\n",
        "                                           passes=10,\n",
        "                                           alpha='auto',\n",
        "                                           per_word_topics=True)"
      ],
      "execution_count": 0,
      "outputs": []
    },
    {
      "cell_type": "code",
      "metadata": {
        "id": "vI-NE4uW9lSl",
        "colab_type": "code",
        "outputId": "a6e31b09-7680-42c9-b772-a91e4fd99d4b",
        "colab": {
          "base_uri": "https://localhost:8080/",
          "height": 218
        }
      },
      "source": [
        "pprint(lda_model.print_topics(num_words=10))"
      ],
      "execution_count": 23,
      "outputs": [
        {
          "output_type": "stream",
          "text": [
            "[(0,\n",
            "  '0.041*\"télétravail\" + 0.019*\"réunion\" + 0.018*\"outil\" + 0.012*\"agent\" + '\n",
            "  '0.011*\"travail\" + 0.010*\"collaboratif\" + 0.009*\"distance\" + '\n",
            "  '0.008*\"important\" + 0.008*\"utilisation\" + 0.008*\"recours\"'),\n",
            " (1,\n",
            "  '0.043*\"télétravail\" + 0.036*\"visio\" + 0.024*\"audio\" + 0.019*\"conférence\" + '\n",
            "  '0.018*\"réunion\" + 0.014*\"agent\" + 0.013*\"travail\" + 0.013*\"outil\" + '\n",
            "  '0.010*\"pratique\" + 0.010*\"utilisation\"'),\n",
            " (2,\n",
            "  '0.072*\"télétravail\" + 0.018*\"agent\" + 0.017*\"jour\" + 0.015*\"travail\" + '\n",
            "  '0.014*\"  \" + 0.012*\"temps\" + 0.012*\"déplacement\" + 0.012*\"distance\" + '\n",
            "  '0.012*\"semaine\" + 0.010*\"pouvoir\"')]\n"
          ],
          "name": "stdout"
        }
      ]
    },
    {
      "cell_type": "code",
      "metadata": {
        "id": "OTE3VIRD95Pw",
        "colab_type": "code",
        "colab": {}
      },
      "source": [
        "lda_model = gensim.models.ldamodel.LdaModel(corpus=corpus,\n",
        "                                           id2word=words,\n",
        "                                           num_topics=10, \n",
        "                                           random_state=2,\n",
        "                                           update_every=1,\n",
        "                                           passes=10,\n",
        "                                           alpha='auto',\n",
        "                                           per_word_topics=True)"
      ],
      "execution_count": 0,
      "outputs": []
    },
    {
      "cell_type": "code",
      "metadata": {
        "id": "LMlVQXq3hgz5",
        "colab_type": "code",
        "colab": {
          "base_uri": "https://localhost:8080/",
          "height": 689
        },
        "outputId": "6f1bc949-4059-4414-a0ab-3a7abc38adec"
      },
      "source": [
        "pprint(lda_model.print_topics(num_words=10))"
      ],
      "execution_count": 25,
      "outputs": [
        {
          "output_type": "stream",
          "text": [
            "[(0,\n",
            "  '0.037*\"télétravail\" + 0.022*\"réunion\" + 0.019*\"agent\" + 0.012*\"permettre\" + '\n",
            "  '0.011*\"faire\" + 0.010*\"équipe\" + 0.009*\"pouvoir\" + 0.009*\"fréquent\" + '\n",
            "  '0.009*\"service\" + 0.008*\"usage\"'),\n",
            " (1,\n",
            "  '0.024*\"agent\" + 0.022*\"télétravail\" + 0.021*\"réunion\" + 0.021*\"audio\" + '\n",
            "  '0.020*\"visio\" + 0.015*\"travail\" + 0.015*\"pratique\" + 0.012*\"utilisation\" + '\n",
            "  '0.012*\"pouvoir\" + 0.011*\"outil\"'),\n",
            " (2,\n",
            "  '0.044*\"  \" + 0.042*\"télétravail\" + 0.016*\"travail\" + 0.015*\"jour\" + '\n",
            "  '0.013*\"faire\" + 0.013*\"semaine\" + 0.011*\"temps\" + 0.011*\"pouvoir\" + '\n",
            "  '0.011*\"crise\" + 0.008*\"probablement\"'),\n",
            " (3,\n",
            "  '0.054*\"télétravail\" + 0.024*\"visio\" + 0.023*\"agent\" + 0.015*\"jour\" + '\n",
            "  '0.014*\"conférence\" + 0.014*\"travail\" + 0.012*\"pouvoir\" + 0.012*\"extension\" '\n",
            "  '+ 0.012*\"distance\" + 0.011*\"équipe\"'),\n",
            " (4,\n",
            "  '0.032*\"télétravail\" + 0.018*\"réunion\" + 0.011*\"  \" + 0.011*\"accès\" + '\n",
            "  '0.009*\"pouvoir\" + 0.008*\"tâche\" + 0.008*\"visioconférence\" + '\n",
            "  '0.008*\"renforcement\" + 0.008*\"pratique\" + 0.007*\"place\"'),\n",
            " (5,\n",
            "  '0.047*\"télétravail\" + 0.039*\"distance\" + 0.027*\"agent\" + 0.026*\"travail\" + '\n",
            "  '0.015*\"réunion\" + 0.011*\"Audio\" + 0.011*\"conférence\" + 0.010*\"crise\" + '\n",
            "  '0.010*\"outil\" + 0.009*\"management\"'),\n",
            " (6,\n",
            "  '0.026*\"conférence\" + 0.026*\"télétravail\" + 0.021*\"audio\" + 0.020*\"visio\" + '\n",
            "  '0.016*\"outil\" + 0.013*\"recours\" + 0.011*\"conférences\" + 0.009*\"pratique\" + '\n",
            "  '0.009*\"travail\" + 0.009*\"distance\"'),\n",
            " (7,\n",
            "  '0.087*\"télétravail\" + 0.039*\"visio\" + 0.021*\"audio\" + 0.021*\"réunion\" + '\n",
            "  '0.017*\"outil\" + 0.014*\"conférence\" + 0.014*\"déplacement\" + 0.014*\"temps\" + '\n",
            "  '0.014*\"recours\" + 0.013*\"visioconférence\"'),\n",
            " (8,\n",
            "  '0.049*\"télétravail\" + 0.023*\"collaboratif\" + 0.019*\"outil\" + 0.018*\"usage\" '\n",
            "  '+ 0.014*\"dématérialisation\" + 0.013*\"pouvoir\" + 0.013*\"travail\" + '\n",
            "  '0.012*\"déjà\" + 0.010*\"agent\" + 0.010*\"procédure\"'),\n",
            " (9,\n",
            "  '0.057*\"télétravail\" + 0.021*\"travail\" + 0.020*\"développement\" + '\n",
            "  '0.018*\"outil\" + 0.013*\"projet\" + 0.013*\"place\" + 0.011*\"gestion\" + '\n",
            "  '0.011*\"teletravail\" + 0.011*\"distance\" + 0.011*\"type\"')]\n"
          ],
          "name": "stdout"
        }
      ]
    },
    {
      "cell_type": "code",
      "metadata": {
        "id": "eZui7QR5iYUT",
        "colab_type": "code",
        "colab": {}
      },
      "source": [
        ""
      ],
      "execution_count": 0,
      "outputs": []
    }
  ]
}