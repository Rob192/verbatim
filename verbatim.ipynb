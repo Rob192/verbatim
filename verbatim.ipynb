{
  "nbformat": 4,
  "nbformat_minor": 0,
  "metadata": {
    "colab": {
      "name": "verbatim.ipynb",
      "provenance": [],
      "authorship_tag": "ABX9TyP0r6MLmc0jm0zB87MKLXUt",
      "include_colab_link": true
    },
    "kernelspec": {
      "name": "python3",
      "display_name": "Python 3"
    }
  },
  "cells": [
    {
      "cell_type": "markdown",
      "metadata": {
        "id": "view-in-github",
        "colab_type": "text"
      },
      "source": [
        "<a href=\"https://colab.research.google.com/github/Rob192/verbatim/blob/master/verbatim.ipynb\" target=\"_parent\"><img src=\"https://colab.research.google.com/assets/colab-badge.svg\" alt=\"Open In Colab\"/></a>"
      ]
    },
    {
      "cell_type": "markdown",
      "metadata": {
        "id": "MWeG_JtMabt9",
        "colab_type": "text"
      },
      "source": [
        "# Import des données"
      ]
    },
    {
      "cell_type": "code",
      "metadata": {
        "id": "jeIszP9tbdYk",
        "colab_type": "code",
        "colab": {}
      },
      "source": [
        "import pandas as pd\n",
        "import matplotlib.pyplot as plt\n",
        "import numpy as np\n"
      ],
      "execution_count": 0,
      "outputs": []
    },
    {
      "cell_type": "code",
      "metadata": {
        "id": "VDofA5adbjo2",
        "colab_type": "code",
        "colab": {}
      },
      "source": [
        "df = pd.read_csv('https://raw.githubusercontent.com/Rob192/verbatim/master/sondage.csv', sep= ';')"
      ],
      "execution_count": 0,
      "outputs": []
    },
    {
      "cell_type": "code",
      "metadata": {
        "id": "2_af165YxvDL",
        "colab_type": "code",
        "colab": {}
      },
      "source": [
        "col = [\"mess_min\", \n",
        "        \"mess_autre\",\n",
        "        \"instant_min\",\n",
        "        \"instant_autre\",\n",
        "        \"visio_min\",\n",
        "        \"visio_intermin\",\n",
        "        \"visio_autre\",\n",
        "        \"collab_min\",\n",
        "        \"collab_intermin\",\n",
        "        \"collab_autre\",\n",
        "        'audio']"
      ],
      "execution_count": 0,
      "outputs": []
    },
    {
      "cell_type": "code",
      "metadata": {
        "id": "J9XhQFdHcF14",
        "colab_type": "code",
        "colab": {}
      },
      "source": [
        "df.columns = col"
      ],
      "execution_count": 0,
      "outputs": []
    },
    {
      "cell_type": "code",
      "metadata": {
        "id": "UARpKDkclKzi",
        "colab_type": "code",
        "outputId": "fcce1b82-9a19-4e27-f543-52324d339b73",
        "colab": {
          "base_uri": "https://localhost:8080/",
          "height": 0
        }
      },
      "source": [
        "df.head()"
      ],
      "execution_count": 46,
      "outputs": [
        {
          "output_type": "execute_result",
          "data": {
            "text/html": [
              "<div>\n",
              "<style scoped>\n",
              "    .dataframe tbody tr th:only-of-type {\n",
              "        vertical-align: middle;\n",
              "    }\n",
              "\n",
              "    .dataframe tbody tr th {\n",
              "        vertical-align: top;\n",
              "    }\n",
              "\n",
              "    .dataframe thead th {\n",
              "        text-align: right;\n",
              "    }\n",
              "</style>\n",
              "<table border=\"1\" class=\"dataframe\">\n",
              "  <thead>\n",
              "    <tr style=\"text-align: right;\">\n",
              "      <th></th>\n",
              "      <th>mess_min</th>\n",
              "      <th>mess_autre</th>\n",
              "      <th>instant_min</th>\n",
              "      <th>instant_autre</th>\n",
              "      <th>visio_min</th>\n",
              "      <th>visio_intermin</th>\n",
              "      <th>visio_autre</th>\n",
              "      <th>collab_min</th>\n",
              "      <th>collab_intermin</th>\n",
              "      <th>collab_autre</th>\n",
              "      <th>audio</th>\n",
              "    </tr>\n",
              "  </thead>\n",
              "  <tbody>\n",
              "    <tr>\n",
              "      <th>0</th>\n",
              "      <td>Tres utile</td>\n",
              "      <td>Pas utile</td>\n",
              "      <td>Non utilise</td>\n",
              "      <td>Non utilise</td>\n",
              "      <td>Non utilise</td>\n",
              "      <td>Non utilise</td>\n",
              "      <td>Utile</td>\n",
              "      <td>Non utilise</td>\n",
              "      <td>Non utilise</td>\n",
              "      <td>Utile</td>\n",
              "      <td>Tres utile</td>\n",
              "    </tr>\n",
              "    <tr>\n",
              "      <th>1</th>\n",
              "      <td>Tres utile</td>\n",
              "      <td>Utile</td>\n",
              "      <td>Non utilise</td>\n",
              "      <td>Utile</td>\n",
              "      <td>Non utilise</td>\n",
              "      <td>Non utilise</td>\n",
              "      <td>Utile</td>\n",
              "      <td>Non utilise</td>\n",
              "      <td>Non utilise</td>\n",
              "      <td>Utile</td>\n",
              "      <td>Tres utile</td>\n",
              "    </tr>\n",
              "    <tr>\n",
              "      <th>2</th>\n",
              "      <td>Tres utile</td>\n",
              "      <td>Pas utile</td>\n",
              "      <td>Inconnu</td>\n",
              "      <td>Tres utile</td>\n",
              "      <td>Non utilise</td>\n",
              "      <td>Non utilise</td>\n",
              "      <td>Tres utile</td>\n",
              "      <td>Non utilise</td>\n",
              "      <td>Inconnu</td>\n",
              "      <td>Non utilise</td>\n",
              "      <td>Tres utile</td>\n",
              "    </tr>\n",
              "    <tr>\n",
              "      <th>3</th>\n",
              "      <td>Non utilise</td>\n",
              "      <td>Non utilise</td>\n",
              "      <td>Non utilise</td>\n",
              "      <td>Non utilise</td>\n",
              "      <td>Non utilise</td>\n",
              "      <td>Non utilise</td>\n",
              "      <td>Tres utile</td>\n",
              "      <td>Non utilise</td>\n",
              "      <td>Non utilise</td>\n",
              "      <td>Tres utile</td>\n",
              "      <td>Tres utile</td>\n",
              "    </tr>\n",
              "    <tr>\n",
              "      <th>4</th>\n",
              "      <td>Tres utile</td>\n",
              "      <td>Non utilise</td>\n",
              "      <td>Non utilise</td>\n",
              "      <td>Tres utile</td>\n",
              "      <td>Non utilise</td>\n",
              "      <td>Pas utile</td>\n",
              "      <td>Tres utile</td>\n",
              "      <td>Inconnu</td>\n",
              "      <td>Inconnu</td>\n",
              "      <td>Tres utile</td>\n",
              "      <td>Tres utile</td>\n",
              "    </tr>\n",
              "  </tbody>\n",
              "</table>\n",
              "</div>"
            ],
            "text/plain": [
              "      mess_min   mess_autre  ... collab_autre       audio\n",
              "0   Tres utile    Pas utile  ...        Utile  Tres utile\n",
              "1   Tres utile        Utile  ...        Utile  Tres utile\n",
              "2   Tres utile    Pas utile  ...  Non utilise  Tres utile\n",
              "3  Non utilise  Non utilise  ...   Tres utile  Tres utile\n",
              "4   Tres utile  Non utilise  ...   Tres utile  Tres utile\n",
              "\n",
              "[5 rows x 11 columns]"
            ]
          },
          "metadata": {
            "tags": []
          },
          "execution_count": 46
        }
      ]
    },
    {
      "cell_type": "markdown",
      "metadata": {
        "id": "ld-T7YO9E0Ii",
        "colab_type": "text"
      },
      "source": [
        "# Les outils du ministère sont-ils connus ? "
      ]
    },
    {
      "cell_type": "code",
      "metadata": {
        "id": "HKSj53Ewzprl",
        "colab_type": "code",
        "outputId": "08fe2c03-0cf6-47a7-8d9a-c1bcb2ae963c",
        "colab": {
          "base_uri": "https://localhost:8080/",
          "height": 195
        }
      },
      "source": [
        "counts = df[col].apply(pd.value_counts)\n",
        "counts"
      ],
      "execution_count": 47,
      "outputs": [
        {
          "output_type": "execute_result",
          "data": {
            "text/html": [
              "<div>\n",
              "<style scoped>\n",
              "    .dataframe tbody tr th:only-of-type {\n",
              "        vertical-align: middle;\n",
              "    }\n",
              "\n",
              "    .dataframe tbody tr th {\n",
              "        vertical-align: top;\n",
              "    }\n",
              "\n",
              "    .dataframe thead th {\n",
              "        text-align: right;\n",
              "    }\n",
              "</style>\n",
              "<table border=\"1\" class=\"dataframe\">\n",
              "  <thead>\n",
              "    <tr style=\"text-align: right;\">\n",
              "      <th></th>\n",
              "      <th>mess_min</th>\n",
              "      <th>mess_autre</th>\n",
              "      <th>instant_min</th>\n",
              "      <th>instant_autre</th>\n",
              "      <th>visio_min</th>\n",
              "      <th>visio_intermin</th>\n",
              "      <th>visio_autre</th>\n",
              "      <th>collab_min</th>\n",
              "      <th>collab_intermin</th>\n",
              "      <th>collab_autre</th>\n",
              "      <th>audio</th>\n",
              "    </tr>\n",
              "  </thead>\n",
              "  <tbody>\n",
              "    <tr>\n",
              "      <th>Inconnu</th>\n",
              "      <td>17</td>\n",
              "      <td>42</td>\n",
              "      <td>135</td>\n",
              "      <td>28</td>\n",
              "      <td>118</td>\n",
              "      <td>140</td>\n",
              "      <td>31</td>\n",
              "      <td>201</td>\n",
              "      <td>358</td>\n",
              "      <td>232</td>\n",
              "      <td>14</td>\n",
              "    </tr>\n",
              "    <tr>\n",
              "      <th>Non utilise</th>\n",
              "      <td>35</td>\n",
              "      <td>588</td>\n",
              "      <td>574</td>\n",
              "      <td>376</td>\n",
              "      <td>427</td>\n",
              "      <td>556</td>\n",
              "      <td>391</td>\n",
              "      <td>392</td>\n",
              "      <td>438</td>\n",
              "      <td>462</td>\n",
              "      <td>81</td>\n",
              "    </tr>\n",
              "    <tr>\n",
              "      <th>Pas utile</th>\n",
              "      <td>15</td>\n",
              "      <td>85</td>\n",
              "      <td>120</td>\n",
              "      <td>66</td>\n",
              "      <td>68</td>\n",
              "      <td>93</td>\n",
              "      <td>36</td>\n",
              "      <td>52</td>\n",
              "      <td>47</td>\n",
              "      <td>29</td>\n",
              "      <td>12</td>\n",
              "    </tr>\n",
              "    <tr>\n",
              "      <th>Tres utile</th>\n",
              "      <td>830</td>\n",
              "      <td>127</td>\n",
              "      <td>45</td>\n",
              "      <td>292</td>\n",
              "      <td>198</td>\n",
              "      <td>82</td>\n",
              "      <td>327</td>\n",
              "      <td>97</td>\n",
              "      <td>59</td>\n",
              "      <td>124</td>\n",
              "      <td>731</td>\n",
              "    </tr>\n",
              "    <tr>\n",
              "      <th>Utile</th>\n",
              "      <td>109</td>\n",
              "      <td>164</td>\n",
              "      <td>132</td>\n",
              "      <td>244</td>\n",
              "      <td>195</td>\n",
              "      <td>135</td>\n",
              "      <td>221</td>\n",
              "      <td>264</td>\n",
              "      <td>104</td>\n",
              "      <td>159</td>\n",
              "      <td>168</td>\n",
              "    </tr>\n",
              "  </tbody>\n",
              "</table>\n",
              "</div>"
            ],
            "text/plain": [
              "             mess_min  mess_autre  ...  collab_autre  audio\n",
              "Inconnu            17          42  ...           232     14\n",
              "Non utilise        35         588  ...           462     81\n",
              "Pas utile          15          85  ...            29     12\n",
              "Tres utile        830         127  ...           124    731\n",
              "Utile             109         164  ...           159    168\n",
              "\n",
              "[5 rows x 11 columns]"
            ]
          },
          "metadata": {
            "tags": []
          },
          "execution_count": 47
        }
      ]
    },
    {
      "cell_type": "code",
      "metadata": {
        "id": "WC71jV-3Evql",
        "colab_type": "code",
        "colab": {}
      },
      "source": [
        "cols = counts.columns\n",
        "ratio = pd.DataFrame()\n",
        "for c in cols:\n",
        "  ratio[c] = counts[c] / counts[c].sum() * 100"
      ],
      "execution_count": 0,
      "outputs": []
    },
    {
      "cell_type": "code",
      "metadata": {
        "id": "rw3QFwdUIDKw",
        "colab_type": "code",
        "outputId": "ab3184a6-2f32-48ca-f903-7803352859f9",
        "colab": {
          "base_uri": "https://localhost:8080/",
          "height": 195
        }
      },
      "source": [
        "ratio"
      ],
      "execution_count": 49,
      "outputs": [
        {
          "output_type": "execute_result",
          "data": {
            "text/html": [
              "<div>\n",
              "<style scoped>\n",
              "    .dataframe tbody tr th:only-of-type {\n",
              "        vertical-align: middle;\n",
              "    }\n",
              "\n",
              "    .dataframe tbody tr th {\n",
              "        vertical-align: top;\n",
              "    }\n",
              "\n",
              "    .dataframe thead th {\n",
              "        text-align: right;\n",
              "    }\n",
              "</style>\n",
              "<table border=\"1\" class=\"dataframe\">\n",
              "  <thead>\n",
              "    <tr style=\"text-align: right;\">\n",
              "      <th></th>\n",
              "      <th>mess_min</th>\n",
              "      <th>mess_autre</th>\n",
              "      <th>instant_min</th>\n",
              "      <th>instant_autre</th>\n",
              "      <th>visio_min</th>\n",
              "      <th>visio_intermin</th>\n",
              "      <th>visio_autre</th>\n",
              "      <th>collab_min</th>\n",
              "      <th>collab_intermin</th>\n",
              "      <th>collab_autre</th>\n",
              "      <th>audio</th>\n",
              "    </tr>\n",
              "  </thead>\n",
              "  <tbody>\n",
              "    <tr>\n",
              "      <th>Inconnu</th>\n",
              "      <td>1.689861</td>\n",
              "      <td>4.174950</td>\n",
              "      <td>13.419483</td>\n",
              "      <td>2.783300</td>\n",
              "      <td>11.729622</td>\n",
              "      <td>13.916501</td>\n",
              "      <td>3.081511</td>\n",
              "      <td>19.980119</td>\n",
              "      <td>35.586481</td>\n",
              "      <td>23.061630</td>\n",
              "      <td>1.391650</td>\n",
              "    </tr>\n",
              "    <tr>\n",
              "      <th>Non utilise</th>\n",
              "      <td>3.479125</td>\n",
              "      <td>58.449304</td>\n",
              "      <td>57.057654</td>\n",
              "      <td>37.375746</td>\n",
              "      <td>42.445328</td>\n",
              "      <td>55.268390</td>\n",
              "      <td>38.866799</td>\n",
              "      <td>38.966203</td>\n",
              "      <td>43.538767</td>\n",
              "      <td>45.924453</td>\n",
              "      <td>8.051690</td>\n",
              "    </tr>\n",
              "    <tr>\n",
              "      <th>Pas utile</th>\n",
              "      <td>1.491054</td>\n",
              "      <td>8.449304</td>\n",
              "      <td>11.928429</td>\n",
              "      <td>6.560636</td>\n",
              "      <td>6.759443</td>\n",
              "      <td>9.244533</td>\n",
              "      <td>3.578529</td>\n",
              "      <td>5.168986</td>\n",
              "      <td>4.671968</td>\n",
              "      <td>2.882704</td>\n",
              "      <td>1.192843</td>\n",
              "    </tr>\n",
              "    <tr>\n",
              "      <th>Tres utile</th>\n",
              "      <td>82.504970</td>\n",
              "      <td>12.624254</td>\n",
              "      <td>4.473161</td>\n",
              "      <td>29.025845</td>\n",
              "      <td>19.681909</td>\n",
              "      <td>8.151093</td>\n",
              "      <td>32.504970</td>\n",
              "      <td>9.642147</td>\n",
              "      <td>5.864811</td>\n",
              "      <td>12.326044</td>\n",
              "      <td>72.664016</td>\n",
              "    </tr>\n",
              "    <tr>\n",
              "      <th>Utile</th>\n",
              "      <td>10.834990</td>\n",
              "      <td>16.302187</td>\n",
              "      <td>13.121272</td>\n",
              "      <td>24.254473</td>\n",
              "      <td>19.383698</td>\n",
              "      <td>13.419483</td>\n",
              "      <td>21.968191</td>\n",
              "      <td>26.242545</td>\n",
              "      <td>10.337972</td>\n",
              "      <td>15.805169</td>\n",
              "      <td>16.699801</td>\n",
              "    </tr>\n",
              "  </tbody>\n",
              "</table>\n",
              "</div>"
            ],
            "text/plain": [
              "              mess_min  mess_autre  ...  collab_autre      audio\n",
              "Inconnu       1.689861    4.174950  ...     23.061630   1.391650\n",
              "Non utilise   3.479125   58.449304  ...     45.924453   8.051690\n",
              "Pas utile     1.491054    8.449304  ...      2.882704   1.192843\n",
              "Tres utile   82.504970   12.624254  ...     12.326044  72.664016\n",
              "Utile        10.834990   16.302187  ...     15.805169  16.699801\n",
              "\n",
              "[5 rows x 11 columns]"
            ]
          },
          "metadata": {
            "tags": []
          },
          "execution_count": 49
        }
      ]
    },
    {
      "cell_type": "code",
      "metadata": {
        "id": "I6cgof-jLoem",
        "colab_type": "code",
        "colab": {}
      },
      "source": [
        "ratio_copy = ratio.copy()"
      ],
      "execution_count": 0,
      "outputs": []
    },
    {
      "cell_type": "code",
      "metadata": {
        "id": "0YmFOdrlJ5px",
        "colab_type": "code",
        "outputId": "bbb38210-1b5e-4812-8ef3-7c05ef218440",
        "colab": {
          "base_uri": "https://localhost:8080/",
          "height": 34
        }
      },
      "source": [
        "ratio = ratio.T\n",
        "ratio.columns"
      ],
      "execution_count": 51,
      "outputs": [
        {
          "output_type": "execute_result",
          "data": {
            "text/plain": [
              "Index(['Inconnu', 'Non utilise', 'Pas utile', 'Tres utile', 'Utile'], dtype='object')"
            ]
          },
          "metadata": {
            "tags": []
          },
          "execution_count": 51
        }
      ]
    },
    {
      "cell_type": "code",
      "metadata": {
        "id": "Y9IXXJP9b30r",
        "colab_type": "code",
        "colab": {}
      },
      "source": [
        "cols = ['Inconnu', 'Non utilise', 'Pas utile', 'Utile','Tres utile']\n",
        "ratio = ratio[cols]"
      ],
      "execution_count": 0,
      "outputs": []
    },
    {
      "cell_type": "code",
      "metadata": {
        "id": "r5kyq7RGI7r6",
        "colab_type": "code",
        "outputId": "15999021-0911-4f2d-a7f3-4ec782cbbaf6",
        "colab": {
          "base_uri": "https://localhost:8080/",
          "height": 317
        }
      },
      "source": [
        "cols = ratio.columns\n",
        "fig, ax = plt.subplots()\n",
        "labels = ratio.index.to_list()\n",
        "width = 0.35     # the width of the bars: can also be len(x) sequence\n",
        "\n",
        "color_dict = {'Inconnu':'grey',\n",
        "    'Non utilise':'darkorange',\n",
        " 'Pas utile': 'red',\n",
        " 'Utile':'yellowgreen',\n",
        " 'Tres utile':'green'}\n",
        "\n",
        "bot = np.zeros(ratio.shape[0])\n",
        "for n in cols:\n",
        "    m = n\n",
        "    ax.bar(labels, ratio[m], width, bottom = bot, label=n , color = color_dict[n])\n",
        "    bot += ratio[m]\n",
        "\n",
        "\n",
        "#ax.set_ylabel('Scores')\n",
        "#ax.set_title('Scores by group and gender')\n",
        "ax.legend(loc='center left', bbox_to_anchor=(1, 0.5))\n",
        "\n",
        "plt.xticks(rotation=45)\n",
        "plt.show()"
      ],
      "execution_count": 53,
      "outputs": [
        {
          "output_type": "display_data",
          "data": {
            "image/png": "[encoded data removed]",
            "text/plain": [
              "<Figure size 432x288 with 1 Axes>"
            ]
          },
          "metadata": {
            "tags": [],
            "needs_background": "light"
          }
        }
      ]
    },
    {
      "cell_type": "markdown",
      "metadata": {
        "id": "Wc4MEzlqcLIi",
        "colab_type": "text"
      },
      "source": [
        ""
      ]
    },
    {
      "cell_type": "code",
      "metadata": {
        "id": "nAeeP1MmJGgB",
        "colab_type": "code",
        "colab": {}
      },
      "source": [
        "ratio['Utilise'] = ratio['Utile'] + ratio['Tres utile']\n",
        "ratio['Inutilise'] = ratio['Non utilise'] + ratio['Pas utile']\n",
        "ratio = ratio[['Inconnu','Inutilise','Utilise']]\n",
        "ratio = ratio.sort_values('Utilise', ascending=False)"
      ],
      "execution_count": 0,
      "outputs": []
    },
    {
      "cell_type": "code",
      "metadata": {
        "id": "Ngc3M4ITd3cw",
        "colab_type": "code",
        "colab": {
          "base_uri": "https://localhost:8080/",
          "height": 317
        },
        "outputId": "373b37df-98b4-48ee-d57e-3775ecb2f3c9"
      },
      "source": [
        "cols = ratio.columns\n",
        "fig, ax = plt.subplots()\n",
        "labels = ratio.index.to_list()\n",
        "width = 0.35     # the width of the bars: can also be len(x) sequence\n",
        "\n",
        "color_dict = {'Inconnu':'grey',\n",
        "    'Inutilise':'darkorange',\n",
        " 'Pas utile': 'red',\n",
        " 'Utilise':'green',\n",
        " 'Tres utile':'green'}\n",
        "\n",
        "bot = np.zeros(ratio.shape[0])\n",
        "for n in cols:\n",
        "    m = n\n",
        "    ax.bar(labels, ratio[m], width, bottom = bot, label=n , color = color_dict[n])\n",
        "    bot += ratio[m]\n",
        "\n",
        "\n",
        "#ax.set_ylabel('Scores')\n",
        "#ax.set_title('Scores by group and gender')\n",
        "ax.legend(loc='center left', bbox_to_anchor=(1, 0.5))\n",
        "\n",
        "plt.xticks(rotation=45)\n",
        "plt.show()"
      ],
      "execution_count": 55,
      "outputs": [
        {
          "output_type": "display_data",
          "data": {
            "image/png": "[encoded data removed]",
            "text/plain": [
              "<Figure size 432x288 with 1 Axes>"
            ]
          },
          "metadata": {
            "tags": [],
            "needs_background": "light"
          }
        }
      ]
    },
    {
      "cell_type": "markdown",
      "metadata": {
        "id": "KAPUgBKxeUAA",
        "colab_type": "text"
      },
      "source": [
        "On voit que parmis les 5 services les plus utilisés, 3 sont des services du ministère. Il n'y a pas beaucoup de travail à faire pour que le service de visio du ministère devienne un outil plesbicité. Il y a un travail à faire sur les outils collaboratifs pour les rendre plus connus. La messagerie instantannée est un challenge car d'autres outils que ceux du ministère sont fortement utilisés. "
      ]
    },
    {
      "cell_type": "markdown",
      "metadata": {
        "id": "iakt__aj2A3U",
        "colab_type": "text"
      },
      "source": [
        "# Les outils du ministère sont-il préférés aux autres outils ?\n"
      ]
    },
    {
      "cell_type": "markdown",
      "metadata": {
        "id": "1FHelmsy3P2O",
        "colab_type": "text"
      },
      "source": [
        "## Donnons des notes aux commentaires"
      ]
    },
    {
      "cell_type": "code",
      "metadata": {
        "id": "rqZD7CisnB8r",
        "colab_type": "code",
        "colab": {}
      },
      "source": [
        "def give_grade (comment):\n",
        "  grades = {\"Tres utile\":2,\"Utile\":1,\"Non utilise\":0,\"Pas utile\":-1, \"Inconnu\":0}\n",
        "  return grades[comment]\n",
        "# Apply on every columns \n",
        "for c in col:\n",
        "  df[c+\"_grade\"] = df[c].apply(lambda x: give_grade(x))"
      ],
      "execution_count": 0,
      "outputs": []
    },
    {
      "cell_type": "code",
      "metadata": {
        "id": "w3UF5jGl7K1o",
        "colab_type": "code",
        "colab": {}
      },
      "source": [
        "data = {\"mess_min_vs_autre\": df.mess_min_grade - df.mess_autre_grade,\n",
        "        \"instant_min_vs_autre\": df.instant_min_grade - df.instant_autre_grade,\n",
        "        \"visio_min_vs_autre\": df.visio_min_grade - df.visio_autre_grade,\n",
        "        \"visio_min_vs_intermin\": df.visio_min_grade - df.visio_intermin_grade,\n",
        "        \"collab_min_vs_autre\": df.collab_min_grade - df.collab_autre_grade,\n",
        "        \"collab_min_vs_intermin\": df.collab_min_grade - df.collab_intermin_grade,\n",
        "        }\n",
        "df_comparison = pd.DataFrame()\n",
        "df_comparison = df_comparison.from_dict(data)"
      ],
      "execution_count": 0,
      "outputs": []
    },
    {
      "cell_type": "markdown",
      "metadata": {
        "id": "Vcala_hr3ZZm",
        "colab_type": "text"
      },
      "source": [
        "## Représentation en box plot "
      ]
    },
    {
      "cell_type": "code",
      "metadata": {
        "id": "Z5VaN0Fr0gbG",
        "colab_type": "code",
        "outputId": "88b32f07-21d4-4e65-a3f7-ce1f5ec5986c",
        "colab": {
          "base_uri": "https://localhost:8080/",
          "height": 377
        }
      },
      "source": [
        "def show_box_plot (df_comparison):\n",
        "  data = [df_comparison[col].values for col in df_comparison.columns]\n",
        "  data = [d[~np.isnan(d)] for d in data]\n",
        "  plt.boxplot(data, showmeans=True, showfliers = False)\n",
        "  plt.xticks([i+1 for i in range (len(data))],df_comparison.columns.tolist(), rotation = 45)\n",
        "  plt.title(\"Box plot différence d'appréciation \\n entre solution ministérielle et autres solutions\")\n",
        "  plt.text(3.5,-2.5,\"Les notes au dessus de 0 \\n montrent une préférence\\n pour la solution ministérielle\")\n",
        "  plt.ylim(-3.5,3.5)\n",
        "  plt.show()\n",
        "show_box_plot(df_comparison)"
      ],
      "execution_count": 15,
      "outputs": [
        {
          "output_type": "display_data",
          "data": {
            "image/png": "[encoded data removed]",
            "text/plain": [
              "<Figure size 432x288 with 1 Axes>"
            ]
          },
          "metadata": {
            "tags": [],
            "needs_background": "light"
          }
        }
      ]
    },
    {
      "cell_type": "markdown",
      "metadata": {
        "id": "DjmBDHzc3VZR",
        "colab_type": "text"
      },
      "source": [
        "## Représentation en histogramme"
      ]
    },
    {
      "cell_type": "code",
      "metadata": {
        "id": "6pSkCoE60gmT",
        "colab_type": "code",
        "outputId": "4d567e46-c5e0-4b88-cf4a-eacdddf9ae20",
        "colab": {
          "base_uri": "https://localhost:8080/",
          "height": 265
        }
      },
      "source": [
        "plt.hist(df.mess_min_grade - df.mess_autre_grade)\n",
        "plt.show()"
      ],
      "execution_count": 11,
      "outputs": [
        {
          "output_type": "display_data",
          "data": {
            "image/png": "[encoded data removed]",
            "text/plain": [
              "<Figure size 432x288 with 1 Axes>"
            ]
          },
          "metadata": {
            "tags": [],
            "needs_background": "light"
          }
        }
      ]
    },
    {
      "cell_type": "code",
      "metadata": {
        "id": "k6PSEFXX0gj3",
        "colab_type": "code",
        "outputId": "8b6dc9b5-3926-46bc-d146-ca5d424cafd3",
        "colab": {
          "base_uri": "https://localhost:8080/",
          "height": 265
        }
      },
      "source": [
        "plt.hist(df.instant_min_grade - df.instant_autre_grade)\n",
        "plt.show()"
      ],
      "execution_count": 12,
      "outputs": [
        {
          "output_type": "display_data",
          "data": {
            "image/png": "[encoded data removed]",
            "text/plain": [
              "<Figure size 432x288 with 1 Axes>"
            ]
          },
          "metadata": {
            "tags": [],
            "needs_background": "light"
          }
        }
      ]
    },
    {
      "cell_type": "code",
      "metadata": {
        "id": "7ywKip630gg7",
        "colab_type": "code",
        "outputId": "e370862c-b355-4859-a01a-870b3b3578be",
        "colab": {
          "base_uri": "https://localhost:8080/",
          "height": 265
        }
      },
      "source": [
        "fix, ax = plt.subplots(1,2, sharey= True)\n",
        "ax[0].hist(df.collab_min_grade - df.collab_autre_grade)\n",
        "ax[1].hist(df.collab_min_grade - df.collab_intermin_grade)\n",
        "plt.show()"
      ],
      "execution_count": 13,
      "outputs": [
        {
          "output_type": "display_data",
          "data": {
            "image/png": "[encoded data removed]",
            "text/plain": [
              "<Figure size 432x288 with 2 Axes>"
            ]
          },
          "metadata": {
            "tags": [],
            "needs_background": "light"
          }
        }
      ]
    },
    {
      "cell_type": "code",
      "metadata": {
        "id": "UsGB6fH40gd2",
        "colab_type": "code",
        "outputId": "6fe0519a-16f8-4361-d8c4-8e2a5423ffa7",
        "colab": {
          "base_uri": "https://localhost:8080/",
          "height": 265
        }
      },
      "source": [
        "fix, ax = plt.subplots(1,2, sharey= True)\n",
        "ax[0].hist(df.visio_min_grade - df.visio_autre_grade)\n",
        "ax[1].hist(df.visio_min_grade - df.visio_intermin_grade)\n",
        "plt.show()"
      ],
      "execution_count": 14,
      "outputs": [
        {
          "output_type": "display_data",
          "data": {
            "image/png": "[encoded data removed]",
            "text/plain": [
              "<Figure size 432x288 with 2 Axes>"
            ]
          },
          "metadata": {
            "tags": [],
            "needs_background": "light"
          }
        }
      ]
    }
  ]
}