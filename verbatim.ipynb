{
  "nbformat": 4,
  "nbformat_minor": 0,
  "metadata": {
    "colab": {
      "name": "verbatim.ipynb",
      "provenance": [],
      "authorship_tag": "ABX9TyOE9t6BZdTXHXCmYLeRaDHG",
      "include_colab_link": true
    },
    "kernelspec": {
      "name": "python3",
      "display_name": "Python 3"
    }
  },
  "cells": [
    {
      "cell_type": "markdown",
      "metadata": {
        "id": "view-in-github",
        "colab_type": "text"
      },
      "source": [
        "<a href=\"https://colab.research.google.com/github/Rob192/verbatim/blob/master/verbatim.ipynb\" target=\"_parent\"><img src=\"https://colab.research.google.com/assets/colab-badge.svg\" alt=\"Open In Colab\"/></a>"
      ]
    },
    {
      "cell_type": "code",
      "metadata": {
        "id": "jeIszP9tbdYk",
        "colab_type": "code",
        "colab": {}
      },
      "source": [
        "import pandas as pd\n",
        "import matplotlib.pyplot as plt\n",
        "import numpy as np\n"
      ],
      "execution_count": 0,
      "outputs": []
    },
    {
      "cell_type": "code",
      "metadata": {
        "id": "VDofA5adbjo2",
        "colab_type": "code",
        "colab": {}
      },
      "source": [
        "df = pd.read_csv('https://raw.githubusercontent.com/Rob192/verbatim/master/sondage.csv', sep= ';')"
      ],
      "execution_count": 0,
      "outputs": []
    },
    {
      "cell_type": "code",
      "metadata": {
        "id": "2_af165YxvDL",
        "colab_type": "code",
        "colab": {}
      },
      "source": [
        "col = [\"mess_min\", \n",
        "        \"mess_autre\",\n",
        "        \"instant_min\",\n",
        "        \"instant_autre\",\n",
        "        \"visio_min\",\n",
        "        \"visio_intermin\",\n",
        "        \"visio_autre\",\n",
        "        \"collab_min\",\n",
        "        \"collab_intermin\",\n",
        "        \"collab_autre\",\n",
        "        'audio']"
      ],
      "execution_count": 0,
      "outputs": []
    },
    {
      "cell_type": "code",
      "metadata": {
        "id": "J9XhQFdHcF14",
        "colab_type": "code",
        "colab": {}
      },
      "source": [
        "df.columns = col"
      ],
      "execution_count": 0,
      "outputs": []
    },
    {
      "cell_type": "code",
      "metadata": {
        "id": "UARpKDkclKzi",
        "colab_type": "code",
        "colab": {
          "base_uri": "https://localhost:8080/",
          "height": 195
        },
        "outputId": "0f836681-339c-4f5d-d035-ca6b61ceb9dc"
      },
      "source": [
        "df.head()"
      ],
      "execution_count": 18,
      "outputs": [
        {
          "output_type": "execute_result",
          "data": {
            "text/html": [
              "<div>\n",
              "<style scoped>\n",
              "    .dataframe tbody tr th:only-of-type {\n",
              "        vertical-align: middle;\n",
              "    }\n",
              "\n",
              "    .dataframe tbody tr th {\n",
              "        vertical-align: top;\n",
              "    }\n",
              "\n",
              "    .dataframe thead th {\n",
              "        text-align: right;\n",
              "    }\n",
              "</style>\n",
              "<table border=\"1\" class=\"dataframe\">\n",
              "  <thead>\n",
              "    <tr style=\"text-align: right;\">\n",
              "      <th></th>\n",
              "      <th>mess_min</th>\n",
              "      <th>mess_autre</th>\n",
              "      <th>instant_min</th>\n",
              "      <th>instant_autre</th>\n",
              "      <th>visio_min</th>\n",
              "      <th>visio_intermin</th>\n",
              "      <th>visio_autre</th>\n",
              "      <th>collab_min</th>\n",
              "      <th>collab_intermin</th>\n",
              "      <th>collab_autre</th>\n",
              "      <th>audio</th>\n",
              "    </tr>\n",
              "  </thead>\n",
              "  <tbody>\n",
              "    <tr>\n",
              "      <th>0</th>\n",
              "      <td>Tres utile</td>\n",
              "      <td>Pas utile</td>\n",
              "      <td>Non utilise</td>\n",
              "      <td>Non utilise</td>\n",
              "      <td>Non utilise</td>\n",
              "      <td>Non utilise</td>\n",
              "      <td>Utile</td>\n",
              "      <td>Non utilise</td>\n",
              "      <td>Non utilise</td>\n",
              "      <td>Utile</td>\n",
              "      <td>Tres utile</td>\n",
              "    </tr>\n",
              "    <tr>\n",
              "      <th>1</th>\n",
              "      <td>Tres utile</td>\n",
              "      <td>Utile</td>\n",
              "      <td>Non utilise</td>\n",
              "      <td>Utile</td>\n",
              "      <td>Non utilise</td>\n",
              "      <td>Non utilise</td>\n",
              "      <td>Utile</td>\n",
              "      <td>Non utilise</td>\n",
              "      <td>Non utilise</td>\n",
              "      <td>Utile</td>\n",
              "      <td>Tres utile</td>\n",
              "    </tr>\n",
              "    <tr>\n",
              "      <th>2</th>\n",
              "      <td>Tres utile</td>\n",
              "      <td>Pas utile</td>\n",
              "      <td>Inconnu</td>\n",
              "      <td>Tres utile</td>\n",
              "      <td>Non utilise</td>\n",
              "      <td>Non utilise</td>\n",
              "      <td>Tres utile</td>\n",
              "      <td>Non utilise</td>\n",
              "      <td>Inconnu</td>\n",
              "      <td>Non utilise</td>\n",
              "      <td>Tres utile</td>\n",
              "    </tr>\n",
              "    <tr>\n",
              "      <th>3</th>\n",
              "      <td>Non utilise</td>\n",
              "      <td>Non utilise</td>\n",
              "      <td>Non utilise</td>\n",
              "      <td>Non utilise</td>\n",
              "      <td>Non utilise</td>\n",
              "      <td>Non utilise</td>\n",
              "      <td>Tres utile</td>\n",
              "      <td>Non utilise</td>\n",
              "      <td>Non utilise</td>\n",
              "      <td>Tres utile</td>\n",
              "      <td>Tres utile</td>\n",
              "    </tr>\n",
              "    <tr>\n",
              "      <th>4</th>\n",
              "      <td>Tres utile</td>\n",
              "      <td>Non utilise</td>\n",
              "      <td>Non utilise</td>\n",
              "      <td>Tres utile</td>\n",
              "      <td>Non utilise</td>\n",
              "      <td>Pas utile</td>\n",
              "      <td>Tres utile</td>\n",
              "      <td>Inconnu</td>\n",
              "      <td>Inconnu</td>\n",
              "      <td>Tres utile</td>\n",
              "      <td>Tres utile</td>\n",
              "    </tr>\n",
              "  </tbody>\n",
              "</table>\n",
              "</div>"
            ],
            "text/plain": [
              "      mess_min   mess_autre  ... collab_autre       audio\n",
              "0   Tres utile    Pas utile  ...        Utile  Tres utile\n",
              "1   Tres utile        Utile  ...        Utile  Tres utile\n",
              "2   Tres utile    Pas utile  ...  Non utilise  Tres utile\n",
              "3  Non utilise  Non utilise  ...   Tres utile  Tres utile\n",
              "4   Tres utile  Non utilise  ...   Tres utile  Tres utile\n",
              "\n",
              "[5 rows x 11 columns]"
            ]
          },
          "metadata": {
            "tags": []
          },
          "execution_count": 18
        }
      ]
    },
    {
      "cell_type": "code",
      "metadata": {
        "id": "FifIzeXrlNHk",
        "colab_type": "code",
        "colab": {
          "base_uri": "https://localhost:8080/",
          "height": 282
        },
        "outputId": "7e6694f9-125f-4242-a1ff-3592cb9d55e7"
      },
      "source": [
        "df.mess_autre.hist()"
      ],
      "execution_count": 19,
      "outputs": [
        {
          "output_type": "execute_result",
          "data": {
            "text/plain": [
              "<matplotlib.axes._subplots.AxesSubplot at 0x7f08a19beba8>"
            ]
          },
          "metadata": {
            "tags": []
          },
          "execution_count": 19
        },
        {
          "output_type": "display_data",
          "data": {
            "image/png": "[encoded data removed]",
            "text/plain": [
              "<Figure size 432x288 with 1 Axes>"
            ]
          },
          "metadata": {
            "tags": [],
            "needs_background": "light"
          }
        }
      ]
    },
    {
      "cell_type": "markdown",
      "metadata": {
        "id": "iakt__aj2A3U",
        "colab_type": "text"
      },
      "source": [
        "# Les outils du ministère sont-il préférés aux autres outils ?\n"
      ]
    },
    {
      "cell_type": "markdown",
      "metadata": {
        "id": "1FHelmsy3P2O",
        "colab_type": "text"
      },
      "source": [
        "## Donnons des notes aux commentaires"
      ]
    },
    {
      "cell_type": "code",
      "metadata": {
        "id": "rqZD7CisnB8r",
        "colab_type": "code",
        "colab": {
          "base_uri": "https://localhost:8080/",
          "height": 34
        },
        "outputId": "ac558561-cb4d-47d2-e1ab-d1ecb41147bb"
      },
      "source": [
        "def give_grade (comment):\n",
        "  grades = {\"Tres utile\":2,\"Utile\":1,\"Non utilise\":0,\"Pas utile\":-1, \"Inconnu\":0}\n",
        "  return grades[comment]\n",
        "# Apply on every columns \n",
        "for c in col:\n",
        "  df[c+\"_grade\"] = df[c].apply(lambda x: give_grade(x))"
      ],
      "execution_count": 20,
      "outputs": [
        {
          "output_type": "execute_result",
          "data": {
            "text/plain": [
              "2"
            ]
          },
          "metadata": {
            "tags": []
          },
          "execution_count": 20
        }
      ]
    },
    {
      "cell_type": "code",
      "metadata": {
        "id": "w3UF5jGl7K1o",
        "colab_type": "code",
        "colab": {}
      },
      "source": [
        "data = {\"mess_min_vs_autre\": df.mess_min_grade - df.mess_autre_grade,\n",
        "        \"instant_min_vs_autre\": df.instant_min_grade - df.instant_autre_grade,\n",
        "        \"visio_min_vs_autre\": df.visio_min_grade - df.visio_autre_grade,\n",
        "        \"visio_min_vs_intermin\": df.visio_min_grade - df.visio_intermin_grade,\n",
        "        \"collab_min_vs_autre\": df.collab_min_grade - df.collab_autre_grade,\n",
        "        \"collab_min_vs_intermin\": df.collab_min_grade - df.collab_intermin_grade,\n",
        "        }\n",
        "df_comparison = pd.DataFrame()\n",
        "df_comparison = df_comparison.from_dict(data)"
      ],
      "execution_count": 0,
      "outputs": []
    },
    {
      "cell_type": "code",
      "metadata": {
        "id": "zi-afKXMBKBL",
        "colab_type": "code",
        "colab": {}
      },
      "source": [
        "def give_grade (comment):\n",
        "  grades = {\"Tres utile\":2,\"Utile\":1,\"Non utilise\":np.nan,\"Pas utile\":0, \"Inconnu\":np.nan}\n",
        "  return grades[comment]\n",
        "# Apply on every columns \n",
        "for c in col:\n",
        "  df[c+\"_grade2\"] = df[c].apply(lambda x: give_grade(x))"
      ],
      "execution_count": 0,
      "outputs": []
    },
    {
      "cell_type": "code",
      "metadata": {
        "id": "m9nS5AGMBY7K",
        "colab_type": "code",
        "colab": {
          "base_uri": "https://localhost:8080/",
          "height": 195
        },
        "outputId": "26307568-78bb-4aa2-c69f-4f7b973b0231"
      },
      "source": [
        "data = {\"mess_min_vs_autre\": df.mess_min_grade2 - df.mess_autre_grade2,\n",
        "        \"instant_min_vs_autre\": df.instant_min_grade2 - df.instant_autre_grade2,\n",
        "        \"visio_min_vs_autre\": df.visio_min_grade2 - df.visio_autre_grade2,\n",
        "        \"visio_min_vs_intermin\": df.visio_min_grade2 - df.visio_intermin_grade2,\n",
        "        \"collab_min_vs_autre\": df.collab_min_grade2 - df.collab_autre_grade2,\n",
        "        \"collab_min_vs_intermin\": df.collab_min_grade2 - df.collab_intermin_grade2,\n",
        "        }\n",
        "df_comparison2 = pd.DataFrame()\n",
        "df_comparison2 = df_comparison.from_dict(data)"
      ],
      "execution_count": 84,
      "outputs": [
        {
          "output_type": "execute_result",
          "data": {
            "text/html": [
              "<div>\n",
              "<style scoped>\n",
              "    .dataframe tbody tr th:only-of-type {\n",
              "        vertical-align: middle;\n",
              "    }\n",
              "\n",
              "    .dataframe tbody tr th {\n",
              "        vertical-align: top;\n",
              "    }\n",
              "\n",
              "    .dataframe thead th {\n",
              "        text-align: right;\n",
              "    }\n",
              "</style>\n",
              "<table border=\"1\" class=\"dataframe\">\n",
              "  <thead>\n",
              "    <tr style=\"text-align: right;\">\n",
              "      <th></th>\n",
              "      <th>mess_min_vs_autre</th>\n",
              "      <th>instant_min_vs_autre</th>\n",
              "      <th>visio_min_vs_autre</th>\n",
              "      <th>visio_min_vs_intermin</th>\n",
              "      <th>collab_min_vs_autre</th>\n",
              "      <th>collab_min_vs_intermin</th>\n",
              "    </tr>\n",
              "  </thead>\n",
              "  <tbody>\n",
              "    <tr>\n",
              "      <th>0</th>\n",
              "      <td>2.0</td>\n",
              "      <td>NaN</td>\n",
              "      <td>NaN</td>\n",
              "      <td>NaN</td>\n",
              "      <td>NaN</td>\n",
              "      <td>NaN</td>\n",
              "    </tr>\n",
              "    <tr>\n",
              "      <th>1</th>\n",
              "      <td>1.0</td>\n",
              "      <td>NaN</td>\n",
              "      <td>NaN</td>\n",
              "      <td>NaN</td>\n",
              "      <td>NaN</td>\n",
              "      <td>NaN</td>\n",
              "    </tr>\n",
              "    <tr>\n",
              "      <th>2</th>\n",
              "      <td>2.0</td>\n",
              "      <td>NaN</td>\n",
              "      <td>NaN</td>\n",
              "      <td>NaN</td>\n",
              "      <td>NaN</td>\n",
              "      <td>NaN</td>\n",
              "    </tr>\n",
              "    <tr>\n",
              "      <th>3</th>\n",
              "      <td>NaN</td>\n",
              "      <td>NaN</td>\n",
              "      <td>NaN</td>\n",
              "      <td>NaN</td>\n",
              "      <td>NaN</td>\n",
              "      <td>NaN</td>\n",
              "    </tr>\n",
              "    <tr>\n",
              "      <th>4</th>\n",
              "      <td>NaN</td>\n",
              "      <td>NaN</td>\n",
              "      <td>NaN</td>\n",
              "      <td>NaN</td>\n",
              "      <td>NaN</td>\n",
              "      <td>NaN</td>\n",
              "    </tr>\n",
              "  </tbody>\n",
              "</table>\n",
              "</div>"
            ],
            "text/plain": [
              "   mess_min_vs_autre  ...  collab_min_vs_intermin\n",
              "0                2.0  ...                     NaN\n",
              "1                1.0  ...                     NaN\n",
              "2                2.0  ...                     NaN\n",
              "3                NaN  ...                     NaN\n",
              "4                NaN  ...                     NaN\n",
              "\n",
              "[5 rows x 6 columns]"
            ]
          },
          "metadata": {
            "tags": []
          },
          "execution_count": 84
        }
      ]
    },
    {
      "cell_type": "markdown",
      "metadata": {
        "id": "DjmBDHzc3VZR",
        "colab_type": "text"
      },
      "source": [
        "## Représentation en histogramme"
      ]
    },
    {
      "cell_type": "code",
      "metadata": {
        "id": "6pSkCoE60gmT",
        "colab_type": "code",
        "colab": {
          "base_uri": "https://localhost:8080/",
          "height": 265
        },
        "outputId": "353d003d-6812-4340-e5e6-9820e48b1806"
      },
      "source": [
        "plt.hist(df.mess_min_grade - df.mess_autre_grade)\n",
        "plt.show()"
      ],
      "execution_count": 27,
      "outputs": [
        {
          "output_type": "display_data",
          "data": {
            "image/png": "[encoded data removed]",
            "text/plain": [
              "<Figure size 432x288 with 1 Axes>"
            ]
          },
          "metadata": {
            "tags": [],
            "needs_background": "light"
          }
        }
      ]
    },
    {
      "cell_type": "code",
      "metadata": {
        "id": "k6PSEFXX0gj3",
        "colab_type": "code",
        "colab": {
          "base_uri": "https://localhost:8080/",
          "height": 265
        },
        "outputId": "d16c7051-42f1-4492-fb3d-bdd5882c39da"
      },
      "source": [
        "plt.hist(df.instant_min_grade - df.instant_autre_grade)\n",
        "plt.show()"
      ],
      "execution_count": 28,
      "outputs": [
        {
          "output_type": "display_data",
          "data": {
            "image/png": "[encoded data removed]",
            "text/plain": [
              "<Figure size 432x288 with 1 Axes>"
            ]
          },
          "metadata": {
            "tags": [],
            "needs_background": "light"
          }
        }
      ]
    },
    {
      "cell_type": "code",
      "metadata": {
        "id": "7ywKip630gg7",
        "colab_type": "code",
        "colab": {
          "base_uri": "https://localhost:8080/",
          "height": 265
        },
        "outputId": "c13e0954-3d8f-449f-ecde-28335aefd635"
      },
      "source": [
        "fix, ax = plt.subplots(1,2, sharey= True)\n",
        "ax[0].hist(df.collab_min_grade - df.collab_autre_grade)\n",
        "ax[1].hist(df.collab_min_grade - df.collab_intermin_grade)\n",
        "plt.show()"
      ],
      "execution_count": 33,
      "outputs": [
        {
          "output_type": "display_data",
          "data": {
            "image/png": "[encoded data removed]",
            "text/plain": [
              "<Figure size 432x288 with 2 Axes>"
            ]
          },
          "metadata": {
            "tags": [],
            "needs_background": "light"
          }
        }
      ]
    },
    {
      "cell_type": "code",
      "metadata": {
        "id": "UsGB6fH40gd2",
        "colab_type": "code",
        "colab": {
          "base_uri": "https://localhost:8080/",
          "height": 265
        },
        "outputId": "3edffa52-2e93-4ca4-afa8-ac7b162f6715"
      },
      "source": [
        "fix, ax = plt.subplots(1,2, sharey= True)\n",
        "ax[0].hist(df.visio_min_grade - df.visio_autre_grade)\n",
        "ax[1].hist(df.visio_min_grade - df.visio_intermin_grade)\n",
        "plt.show()"
      ],
      "execution_count": 34,
      "outputs": [
        {
          "output_type": "display_data",
          "data": {
            "image/png": "[encoded data removed]",
            "text/plain": [
              "<Figure size 432x288 with 2 Axes>"
            ]
          },
          "metadata": {
            "tags": [],
            "needs_background": "light"
          }
        }
      ]
    },
    {
      "cell_type": "markdown",
      "metadata": {
        "id": "Vcala_hr3ZZm",
        "colab_type": "text"
      },
      "source": [
        "## Représentation en box plot "
      ]
    },
    {
      "cell_type": "code",
      "metadata": {
        "id": "Z5VaN0Fr0gbG",
        "colab_type": "code",
        "colab": {
          "base_uri": "https://localhost:8080/",
          "height": 377
        },
        "outputId": "472fcd35-8776-4099-ded1-e85dd418e18e"
      },
      "source": [
        "def show_box_plot (df_comparison):\n",
        "  data = [df_comparison[col].values for col in df_comparison.columns]\n",
        "  data = [d[~np.isnan(d)] for d in data]\n",
        "  plt.boxplot(data, showmeans=True, showfliers = False)\n",
        "  plt.xticks([i+1 for i in range (len(data))],df_comparison.columns.tolist(), rotation = 45)\n",
        "  plt.title(\"Box plot différence d'appréciation \\n entre solution ministérielle et autres solutions\")\n",
        "  plt.text(3.5,-2.5,\"Les notes au dessus de 0 \\n montrent une préférence\\n pour la solution ministérielle\")\n",
        "  plt.ylim(-3.5,3.5)\n",
        "  plt.show()\n",
        "show_box_plot(df_comparison)"
      ],
      "execution_count": 107,
      "outputs": [
        {
          "output_type": "display_data",
          "data": {
            "image/png": "[encoded data removed]",
            "text/plain": [
              "<Figure size 432x288 with 1 Axes>"
            ]
          },
          "metadata": {
            "tags": [],
            "needs_background": "light"
          }
        }
      ]
    },
    {
      "cell_type": "code",
      "metadata": {
        "id": "1tydUaCxzHGf",
        "colab_type": "code",
        "colab": {
          "base_uri": "https://localhost:8080/",
          "height": 377
        },
        "outputId": "802fd8ad-5d31-43db-ebf2-0ed3449fded1"
      },
      "source": [
        "show_box_plot(df_comparison2)"
      ],
      "execution_count": 106,
      "outputs": [
        {
          "output_type": "display_data",
          "data": {
            "image/png": "[encoded data removed]",
            "text/plain": [
              "<Figure size 432x288 with 1 Axes>"
            ]
          },
          "metadata": {
            "tags": [],
            "needs_background": "light"
          }
        }
      ]
    },
    {
      "cell_type": "markdown",
      "metadata": {
        "id": "ld-T7YO9E0Ii",
        "colab_type": "text"
      },
      "source": [
        "# Les outils du ministère sont-ils connus ? "
      ]
    },
    {
      "cell_type": "code",
      "metadata": {
        "id": "HKSj53Ewzprl",
        "colab_type": "code",
        "colab": {
          "base_uri": "https://localhost:8080/",
          "height": 195
        },
        "outputId": "6204a325-12f9-4d29-fcb4-2adc4ccb7430"
      },
      "source": [
        "counts = df[col].apply(pd.value_counts)\n",
        "counts"
      ],
      "execution_count": 131,
      "outputs": [
        {
          "output_type": "execute_result",
          "data": {
            "text/html": [
              "<div>\n",
              "<style scoped>\n",
              "    .dataframe tbody tr th:only-of-type {\n",
              "        vertical-align: middle;\n",
              "    }\n",
              "\n",
              "    .dataframe tbody tr th {\n",
              "        vertical-align: top;\n",
              "    }\n",
              "\n",
              "    .dataframe thead th {\n",
              "        text-align: right;\n",
              "    }\n",
              "</style>\n",
              "<table border=\"1\" class=\"dataframe\">\n",
              "  <thead>\n",
              "    <tr style=\"text-align: right;\">\n",
              "      <th></th>\n",
              "      <th>mess_min</th>\n",
              "      <th>mess_autre</th>\n",
              "      <th>instant_min</th>\n",
              "      <th>instant_autre</th>\n",
              "      <th>visio_min</th>\n",
              "      <th>visio_intermin</th>\n",
              "      <th>visio_autre</th>\n",
              "      <th>collab_min</th>\n",
              "      <th>collab_intermin</th>\n",
              "      <th>collab_autre</th>\n",
              "      <th>audio</th>\n",
              "    </tr>\n",
              "  </thead>\n",
              "  <tbody>\n",
              "    <tr>\n",
              "      <th>Inconnu</th>\n",
              "      <td>17</td>\n",
              "      <td>42</td>\n",
              "      <td>135</td>\n",
              "      <td>28</td>\n",
              "      <td>118</td>\n",
              "      <td>140</td>\n",
              "      <td>31</td>\n",
              "      <td>201</td>\n",
              "      <td>358</td>\n",
              "      <td>232</td>\n",
              "      <td>14</td>\n",
              "    </tr>\n",
              "    <tr>\n",
              "      <th>Non utilise</th>\n",
              "      <td>35</td>\n",
              "      <td>588</td>\n",
              "      <td>574</td>\n",
              "      <td>376</td>\n",
              "      <td>427</td>\n",
              "      <td>556</td>\n",
              "      <td>391</td>\n",
              "      <td>392</td>\n",
              "      <td>438</td>\n",
              "      <td>462</td>\n",
              "      <td>81</td>\n",
              "    </tr>\n",
              "    <tr>\n",
              "      <th>Pas utile</th>\n",
              "      <td>15</td>\n",
              "      <td>85</td>\n",
              "      <td>120</td>\n",
              "      <td>66</td>\n",
              "      <td>68</td>\n",
              "      <td>93</td>\n",
              "      <td>36</td>\n",
              "      <td>52</td>\n",
              "      <td>47</td>\n",
              "      <td>29</td>\n",
              "      <td>12</td>\n",
              "    </tr>\n",
              "    <tr>\n",
              "      <th>Tres utile</th>\n",
              "      <td>830</td>\n",
              "      <td>127</td>\n",
              "      <td>45</td>\n",
              "      <td>292</td>\n",
              "      <td>198</td>\n",
              "      <td>82</td>\n",
              "      <td>327</td>\n",
              "      <td>97</td>\n",
              "      <td>59</td>\n",
              "      <td>124</td>\n",
              "      <td>731</td>\n",
              "    </tr>\n",
              "    <tr>\n",
              "      <th>Utile</th>\n",
              "      <td>109</td>\n",
              "      <td>164</td>\n",
              "      <td>132</td>\n",
              "      <td>244</td>\n",
              "      <td>195</td>\n",
              "      <td>135</td>\n",
              "      <td>221</td>\n",
              "      <td>264</td>\n",
              "      <td>104</td>\n",
              "      <td>159</td>\n",
              "      <td>168</td>\n",
              "    </tr>\n",
              "  </tbody>\n",
              "</table>\n",
              "</div>"
            ],
            "text/plain": [
              "             mess_min  mess_autre  ...  collab_autre  audio\n",
              "Inconnu            17          42  ...           232     14\n",
              "Non utilise        35         588  ...           462     81\n",
              "Pas utile          15          85  ...            29     12\n",
              "Tres utile        830         127  ...           124    731\n",
              "Utile             109         164  ...           159    168\n",
              "\n",
              "[5 rows x 11 columns]"
            ]
          },
          "metadata": {
            "tags": []
          },
          "execution_count": 131
        }
      ]
    },
    {
      "cell_type": "code",
      "metadata": {
        "id": "WC71jV-3Evql",
        "colab_type": "code",
        "colab": {}
      },
      "source": [
        "cols = counts.columns\n",
        "ratio = pd.DataFrame()\n",
        "for c in cols:\n",
        "  ratio[c] = counts[c] / counts[c].sum() * 100"
      ],
      "execution_count": 0,
      "outputs": []
    },
    {
      "cell_type": "code",
      "metadata": {
        "id": "rw3QFwdUIDKw",
        "colab_type": "code",
        "colab": {
          "base_uri": "https://localhost:8080/",
          "height": 195
        },
        "outputId": "ae806b82-b36e-49e2-c3f7-5082bfc1b1b5"
      },
      "source": [
        "ratio"
      ],
      "execution_count": 133,
      "outputs": [
        {
          "output_type": "execute_result",
          "data": {
            "text/html": [
              "<div>\n",
              "<style scoped>\n",
              "    .dataframe tbody tr th:only-of-type {\n",
              "        vertical-align: middle;\n",
              "    }\n",
              "\n",
              "    .dataframe tbody tr th {\n",
              "        vertical-align: top;\n",
              "    }\n",
              "\n",
              "    .dataframe thead th {\n",
              "        text-align: right;\n",
              "    }\n",
              "</style>\n",
              "<table border=\"1\" class=\"dataframe\">\n",
              "  <thead>\n",
              "    <tr style=\"text-align: right;\">\n",
              "      <th></th>\n",
              "      <th>mess_min</th>\n",
              "      <th>mess_autre</th>\n",
              "      <th>instant_min</th>\n",
              "      <th>instant_autre</th>\n",
              "      <th>visio_min</th>\n",
              "      <th>visio_intermin</th>\n",
              "      <th>visio_autre</th>\n",
              "      <th>collab_min</th>\n",
              "      <th>collab_intermin</th>\n",
              "      <th>collab_autre</th>\n",
              "      <th>audio</th>\n",
              "    </tr>\n",
              "  </thead>\n",
              "  <tbody>\n",
              "    <tr>\n",
              "      <th>Inconnu</th>\n",
              "      <td>1.689861</td>\n",
              "      <td>4.174950</td>\n",
              "      <td>13.419483</td>\n",
              "      <td>2.783300</td>\n",
              "      <td>11.729622</td>\n",
              "      <td>13.916501</td>\n",
              "      <td>3.081511</td>\n",
              "      <td>19.980119</td>\n",
              "      <td>35.586481</td>\n",
              "      <td>23.061630</td>\n",
              "      <td>1.391650</td>\n",
              "    </tr>\n",
              "    <tr>\n",
              "      <th>Non utilise</th>\n",
              "      <td>3.479125</td>\n",
              "      <td>58.449304</td>\n",
              "      <td>57.057654</td>\n",
              "      <td>37.375746</td>\n",
              "      <td>42.445328</td>\n",
              "      <td>55.268390</td>\n",
              "      <td>38.866799</td>\n",
              "      <td>38.966203</td>\n",
              "      <td>43.538767</td>\n",
              "      <td>45.924453</td>\n",
              "      <td>8.051690</td>\n",
              "    </tr>\n",
              "    <tr>\n",
              "      <th>Pas utile</th>\n",
              "      <td>1.491054</td>\n",
              "      <td>8.449304</td>\n",
              "      <td>11.928429</td>\n",
              "      <td>6.560636</td>\n",
              "      <td>6.759443</td>\n",
              "      <td>9.244533</td>\n",
              "      <td>3.578529</td>\n",
              "      <td>5.168986</td>\n",
              "      <td>4.671968</td>\n",
              "      <td>2.882704</td>\n",
              "      <td>1.192843</td>\n",
              "    </tr>\n",
              "    <tr>\n",
              "      <th>Tres utile</th>\n",
              "      <td>82.504970</td>\n",
              "      <td>12.624254</td>\n",
              "      <td>4.473161</td>\n",
              "      <td>29.025845</td>\n",
              "      <td>19.681909</td>\n",
              "      <td>8.151093</td>\n",
              "      <td>32.504970</td>\n",
              "      <td>9.642147</td>\n",
              "      <td>5.864811</td>\n",
              "      <td>12.326044</td>\n",
              "      <td>72.664016</td>\n",
              "    </tr>\n",
              "    <tr>\n",
              "      <th>Utile</th>\n",
              "      <td>10.834990</td>\n",
              "      <td>16.302187</td>\n",
              "      <td>13.121272</td>\n",
              "      <td>24.254473</td>\n",
              "      <td>19.383698</td>\n",
              "      <td>13.419483</td>\n",
              "      <td>21.968191</td>\n",
              "      <td>26.242545</td>\n",
              "      <td>10.337972</td>\n",
              "      <td>15.805169</td>\n",
              "      <td>16.699801</td>\n",
              "    </tr>\n",
              "  </tbody>\n",
              "</table>\n",
              "</div>"
            ],
            "text/plain": [
              "              mess_min  mess_autre  ...  collab_autre      audio\n",
              "Inconnu       1.689861    4.174950  ...     23.061630   1.391650\n",
              "Non utilise   3.479125   58.449304  ...     45.924453   8.051690\n",
              "Pas utile     1.491054    8.449304  ...      2.882704   1.192843\n",
              "Tres utile   82.504970   12.624254  ...     12.326044  72.664016\n",
              "Utile        10.834990   16.302187  ...     15.805169  16.699801\n",
              "\n",
              "[5 rows x 11 columns]"
            ]
          },
          "metadata": {
            "tags": []
          },
          "execution_count": 133
        }
      ]
    },
    {
      "cell_type": "code",
      "metadata": {
        "id": "I6cgof-jLoem",
        "colab_type": "code",
        "colab": {}
      },
      "source": [
        "ratio_copy = ratio.copy()"
      ],
      "execution_count": 0,
      "outputs": []
    },
    {
      "cell_type": "code",
      "metadata": {
        "id": "0YmFOdrlJ5px",
        "colab_type": "code",
        "colab": {
          "base_uri": "https://localhost:8080/",
          "height": 373
        },
        "outputId": "dc337742-1136-40a6-a5dc-c49054da2e38"
      },
      "source": [
        "ratio = ratio.T\n",
        "ratio"
      ],
      "execution_count": 148,
      "outputs": [
        {
          "output_type": "execute_result",
          "data": {
            "text/html": [
              "<div>\n",
              "<style scoped>\n",
              "    .dataframe tbody tr th:only-of-type {\n",
              "        vertical-align: middle;\n",
              "    }\n",
              "\n",
              "    .dataframe tbody tr th {\n",
              "        vertical-align: top;\n",
              "    }\n",
              "\n",
              "    .dataframe thead th {\n",
              "        text-align: right;\n",
              "    }\n",
              "</style>\n",
              "<table border=\"1\" class=\"dataframe\">\n",
              "  <thead>\n",
              "    <tr style=\"text-align: right;\">\n",
              "      <th></th>\n",
              "      <th>Inconnu</th>\n",
              "      <th>Non utilise</th>\n",
              "      <th>Pas utile</th>\n",
              "      <th>Tres utile</th>\n",
              "      <th>Utile</th>\n",
              "    </tr>\n",
              "  </thead>\n",
              "  <tbody>\n",
              "    <tr>\n",
              "      <th>mess_min</th>\n",
              "      <td>1.689861</td>\n",
              "      <td>3.479125</td>\n",
              "      <td>1.491054</td>\n",
              "      <td>82.504970</td>\n",
              "      <td>10.834990</td>\n",
              "    </tr>\n",
              "    <tr>\n",
              "      <th>mess_autre</th>\n",
              "      <td>4.174950</td>\n",
              "      <td>58.449304</td>\n",
              "      <td>8.449304</td>\n",
              "      <td>12.624254</td>\n",
              "      <td>16.302187</td>\n",
              "    </tr>\n",
              "    <tr>\n",
              "      <th>instant_min</th>\n",
              "      <td>13.419483</td>\n",
              "      <td>57.057654</td>\n",
              "      <td>11.928429</td>\n",
              "      <td>4.473161</td>\n",
              "      <td>13.121272</td>\n",
              "    </tr>\n",
              "    <tr>\n",
              "      <th>instant_autre</th>\n",
              "      <td>2.783300</td>\n",
              "      <td>37.375746</td>\n",
              "      <td>6.560636</td>\n",
              "      <td>29.025845</td>\n",
              "      <td>24.254473</td>\n",
              "    </tr>\n",
              "    <tr>\n",
              "      <th>visio_min</th>\n",
              "      <td>11.729622</td>\n",
              "      <td>42.445328</td>\n",
              "      <td>6.759443</td>\n",
              "      <td>19.681909</td>\n",
              "      <td>19.383698</td>\n",
              "    </tr>\n",
              "    <tr>\n",
              "      <th>visio_intermin</th>\n",
              "      <td>13.916501</td>\n",
              "      <td>55.268390</td>\n",
              "      <td>9.244533</td>\n",
              "      <td>8.151093</td>\n",
              "      <td>13.419483</td>\n",
              "    </tr>\n",
              "    <tr>\n",
              "      <th>visio_autre</th>\n",
              "      <td>3.081511</td>\n",
              "      <td>38.866799</td>\n",
              "      <td>3.578529</td>\n",
              "      <td>32.504970</td>\n",
              "      <td>21.968191</td>\n",
              "    </tr>\n",
              "    <tr>\n",
              "      <th>collab_min</th>\n",
              "      <td>19.980119</td>\n",
              "      <td>38.966203</td>\n",
              "      <td>5.168986</td>\n",
              "      <td>9.642147</td>\n",
              "      <td>26.242545</td>\n",
              "    </tr>\n",
              "    <tr>\n",
              "      <th>collab_intermin</th>\n",
              "      <td>35.586481</td>\n",
              "      <td>43.538767</td>\n",
              "      <td>4.671968</td>\n",
              "      <td>5.864811</td>\n",
              "      <td>10.337972</td>\n",
              "    </tr>\n",
              "    <tr>\n",
              "      <th>collab_autre</th>\n",
              "      <td>23.061630</td>\n",
              "      <td>45.924453</td>\n",
              "      <td>2.882704</td>\n",
              "      <td>12.326044</td>\n",
              "      <td>15.805169</td>\n",
              "    </tr>\n",
              "    <tr>\n",
              "      <th>audio</th>\n",
              "      <td>1.391650</td>\n",
              "      <td>8.051690</td>\n",
              "      <td>1.192843</td>\n",
              "      <td>72.664016</td>\n",
              "      <td>16.699801</td>\n",
              "    </tr>\n",
              "  </tbody>\n",
              "</table>\n",
              "</div>"
            ],
            "text/plain": [
              "                   Inconnu  Non utilise  Pas utile  Tres utile      Utile\n",
              "mess_min          1.689861     3.479125   1.491054   82.504970  10.834990\n",
              "mess_autre        4.174950    58.449304   8.449304   12.624254  16.302187\n",
              "instant_min      13.419483    57.057654  11.928429    4.473161  13.121272\n",
              "instant_autre     2.783300    37.375746   6.560636   29.025845  24.254473\n",
              "visio_min        11.729622    42.445328   6.759443   19.681909  19.383698\n",
              "visio_intermin   13.916501    55.268390   9.244533    8.151093  13.419483\n",
              "visio_autre       3.081511    38.866799   3.578529   32.504970  21.968191\n",
              "collab_min       19.980119    38.966203   5.168986    9.642147  26.242545\n",
              "collab_intermin  35.586481    43.538767   4.671968    5.864811  10.337972\n",
              "collab_autre     23.061630    45.924453   2.882704   12.326044  15.805169\n",
              "audio             1.391650     8.051690   1.192843   72.664016  16.699801"
            ]
          },
          "metadata": {
            "tags": []
          },
          "execution_count": 148
        }
      ]
    },
    {
      "cell_type": "code",
      "metadata": {
        "id": "FA4MOTCyMNJj",
        "colab_type": "code",
        "colab": {
          "base_uri": "https://localhost:8080/",
          "height": 202
        },
        "outputId": "f2ec1333-7f46-4a07-9eb3-56606a044d90"
      },
      "source": [
        "ratio.index.to_list()"
      ],
      "execution_count": 151,
      "outputs": [
        {
          "output_type": "execute_result",
          "data": {
            "text/plain": [
              "['mess_min',\n",
              " 'mess_autre',\n",
              " 'instant_min',\n",
              " 'instant_autre',\n",
              " 'visio_min',\n",
              " 'visio_intermin',\n",
              " 'visio_autre',\n",
              " 'collab_min',\n",
              " 'collab_intermin',\n",
              " 'collab_autre',\n",
              " 'audio']"
            ]
          },
          "metadata": {
            "tags": []
          },
          "execution_count": 151
        }
      ]
    },
    {
      "cell_type": "code",
      "metadata": {
        "id": "r5kyq7RGI7r6",
        "colab_type": "code",
        "colab": {
          "base_uri": "https://localhost:8080/",
          "height": 317
        },
        "outputId": "6ff9616b-e69d-4f05-a6c7-5146b976c52c"
      },
      "source": [
        "cols = ratio.columns\n",
        "fig, ax = plt.subplots()\n",
        "labels = ratio.index.to_list()\n",
        "width = 0.35     # the width of the bars: can also be len(x) sequence\n",
        "\n",
        "color_dict = {'Inconnu':'grey',\n",
        "    'Non utilise':'darkorange',\n",
        " 'Pas utile': 'red',\n",
        " 'Utile':'yellowgreen',\n",
        " 'Tres utile':'green'}\n",
        "\n",
        "bot = np.zeros(ratio.shape[0])\n",
        "for n in cols:\n",
        "    m = n\n",
        "    ax.bar(labels, ratio[m], width, bottom = bot, label=n , color = color_dict[n])\n",
        "    bot += ratio[m]\n",
        "\n",
        "\n",
        "#ax.set_ylabel('Scores')\n",
        "#ax.set_title('Scores by group and gender')\n",
        "ax.legend(loc='center left', bbox_to_anchor=(1, 0.5))\n",
        "\n",
        "plt.xticks(rotation=45)\n",
        "plt.show()"
      ],
      "execution_count": 154,
      "outputs": [
        {
          "output_type": "display_data",
          "data": {
            "image/png": "[encoded data removed]",
            "text/plain": [
              "<Figure size 432x288 with 1 Axes>"
            ]
          },
          "metadata": {
            "tags": [],
            "needs_background": "light"
          }
        }
      ]
    },
    {
      "cell_type": "code",
      "metadata": {
        "id": "nAeeP1MmJGgB",
        "colab_type": "code",
        "colab": {}
      },
      "source": [
        ""
      ],
      "execution_count": 0,
      "outputs": []
    }
  ]
}